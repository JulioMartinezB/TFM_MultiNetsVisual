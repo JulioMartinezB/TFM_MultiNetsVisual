{
 "cells": [
  {
   "cell_type": "code",
   "execution_count": 1,
   "metadata": {},
   "outputs": [],
   "source": [
    "import pandas as pd\n",
    "import numpy as np\n",
    "from geopy.distance import geodesic\n",
    "# given the shapes.txt file in the urban folder, print the map of the urban stops\n",
    "import geopandas as gpd\n",
    "import matplotlib.pyplot as plt\n",
    "from shapely.geometry import Point\n",
    "\n",
    "import os"
   ]
  },
  {
   "cell_type": "code",
   "execution_count": 2,
   "metadata": {},
   "outputs": [],
   "source": [
    "BASE_URI_METRO = \"GTFS_DATA/True_Metro/\"\n",
    "BASE_URI_URBAN = \"GTFS_DATA/True_Urbanos/\"\n",
    "BASE_URI_INTERURBAN = \"GTFS_DATA/True_Interurbanos/google_transit_M89/\"\n",
    "BASE_URI_CERCANIAS = \"GTFS_DATA/True_Cercanias/\""
   ]
  },
  {
   "cell_type": "markdown",
   "metadata": {},
   "source": [
    "## GENERATE NODES AND EGDES "
   ]
  },
  {
   "cell_type": "code",
   "execution_count": 21,
   "metadata": {},
   "outputs": [],
   "source": [
    "def process_edges(stop_times_file,stops_file, output_file, stats_output_file):\n",
    "    metro_stop_times = pd.read_csv(stop_times_file)\n",
    "    metro_stops = pd.read_csv(stops_file)\n",
    "    df = metro_stop_times.merge(metro_stops[['stop_id','stop_name']], on='stop_id')\n",
    "    # Read the original CSV file\n",
    "    \n",
    "    df_sorted = df.sort_values(by=['trip_id', 'stop_sequence'])\n",
    "    \n",
    "    # Create a new column with the next stop_id\n",
    "    # Using shift with a negative value to get the \"next\" row's value\n",
    "\n",
    "    df_sorted['next_stop_id'] = df_sorted.groupby('trip_id')['stop_id'].shift(-1)\n",
    "    df_sorted['next_stop_name'] = df_sorted.groupby('trip_id')['stop_name'].shift(-1)\n",
    "    df_sorted['next_stop_sequence'] = df_sorted.groupby('trip_id')['stop_sequence'].shift(-1)\n",
    "    df_sorted['next_arrival_time'] = df_sorted.groupby('trip_id')['arrival_time'].shift(-1)\n",
    "\n",
    "    df_sorted[df_sorted['stop_sequence'] + 1 == df_sorted['next_stop_sequence']]\n",
    "\n",
    "    # if next_arrival_time[:2] >= 24, change to 00. same with departure_time\n",
    "    df_sorted.loc[df_sorted['next_arrival_time'].str[:2] >= '24', 'next_arrival_time'] = '00' + df_sorted['next_arrival_time'].str[2:]\n",
    "    df_sorted.loc[df_sorted['departure_time'].str[:2] >= '24', 'departure_time'] = '00' + df_sorted['departure_time'].str[2:]\n",
    "    \n",
    "    df_sorted['time_diff'] = (pd.to_datetime(df_sorted['next_arrival_time'],format='%H:%M:%S') - pd.to_datetime(df_sorted['departure_time'],format='%H:%M:%S')).dt.total_seconds()\n",
    "    # for those time_diff < 0, add 24 hours\n",
    "    df_sorted.loc[df_sorted['time_diff'] < 0, 'time_diff'] += 24 * 60 * 60    \n",
    "\n",
    "    df_sorted = df_sorted[['trip_id', 'stop_id', 'stop_name', 'stop_sequence', 'departure_time', 'next_stop_id', 'next_stop_name', 'next_stop_sequence', 'next_arrival_time', 'time_diff']]\n",
    "    # the length of the trip is given by the number of stops or the biggest stop_sequence\n",
    "    df_sorted['trip_length'] = df_sorted.groupby('trip_id')['stop_sequence'].transform('max')\n",
    "    df_sorted['trip_length'] = df_sorted['trip_length'].astype(int) + 1\n",
    "    \n",
    "    df_sorted.to_csv(output_file, index=False)\n",
    "\n",
    "\n",
    "\n",
    "    df_sorted = df_sorted.dropna()\n",
    "    df_sorted['stop1'] = df_sorted[['stop_name', 'next_stop_name']].min(axis=1)\n",
    "    df_sorted['stop2'] = df_sorted[['stop_name', 'next_stop_name']].max(axis=1)\n",
    "\n",
    "    stats_df = df_sorted.groupby(['stop1', 'stop2']).aggregate({\n",
    "        'time_diff': 'mean',\n",
    "    }).reset_index()\n",
    "    stats_df.columns = ['stop1', 'stop2', 'mean_time_diff']\n",
    "    stats_df.to_csv(stats_output_file, index=False)\n",
    "\n",
    "\n",
    "    return     df_sorted,stats_df\n",
    "    # remove rows where nex\n",
    "\n",
    "# stop_times[[trip_id,name]] es las lineas 'par' de stops.txt join con stop_times original\n",
    "\n",
    "def process_nodes(stops_file, output_file):\n",
    "    metro_stops = pd.read_csv(stops_file)\n",
    "    metro_stops = metro_stops.drop_duplicates(subset='stop_id')\n",
    "    metro_stops = metro_stops[metro_stops['location_type'] == 0]\n",
    "    metro_stops = metro_stops[['stop_id', 'stop_name', 'stop_lat', 'stop_lon']]\n",
    "    metro_stops.to_csv(output_file, index=False)\n",
    "    return metro_stops"
   ]
  },
  {
   "cell_type": "markdown",
   "metadata": {},
   "source": [
    "#### PROCESS METRO NODES AND EDGES"
   ]
  },
  {
   "cell_type": "code",
   "execution_count": 204,
   "metadata": {},
   "outputs": [],
   "source": [
    "stop_times_file = BASE_URI_METRO + \"stop_times.txt\"  # Input file path\n",
    "stop_file = BASE_URI_METRO + \"stops.txt\"  # Input file path\n",
    "edge_file = BASE_URI_METRO + \"_edges.csv\"  # Output file path\n",
    "stats_edge_file = BASE_URI_METRO + \"_stats_edges.csv\"  # Output file path\n",
    "node_file = BASE_URI_METRO + \"_nodes.csv\"  # Output file path\n",
    "\n",
    "if not os.path.exists(edge_file) or not os.path.exists(stats_edge_file) or not os.path.exists(node_file):\n",
    "    metro_edges, metro_edge_stats = process_edges(stop_times_file, stop_file, edge_file, stats_edge_file)\n",
    "    metro_nodes = process_nodes(stop_file, node_file)\n",
    "else:\n",
    "    metro_edges = pd.read_csv(edge_file)\n",
    "    metro_edge_stats = pd.read_csv(stats_edge_file)\n",
    "    metro_nodes = pd.read_csv(node_file)"
   ]
  },
  {
   "cell_type": "markdown",
   "metadata": {},
   "source": [
    "### PROCESS URBAN BUS NODES AND EDGES"
   ]
  },
  {
   "cell_type": "code",
   "execution_count": 205,
   "metadata": {},
   "outputs": [],
   "source": [
    "\n",
    "urban_stop_times_file = BASE_URI_URBAN + \"stop_times.txt\"  # Input file path\n",
    "urban_stop_file = BASE_URI_URBAN + \"stops.txt\"  # Input file path\n",
    "urban_edge_file = BASE_URI_URBAN + \"_edges.csv\"  # Output file path\n",
    "urban_stats_edge_file = BASE_URI_URBAN + \"_stats_edges.csv\"  # Output file path\n",
    "urban_node_file = BASE_URI_URBAN + \"_nodes.csv\"  # Output file path\n",
    "\n",
    "\n",
    "if not os.path.exists(urban_edge_file) or not os.path.exists(urban_stats_edge_file) or not os.path.exists(urban_node_file):\n",
    "    urban_edges, urban_edge_stats = process_edges(urban_stop_times_file, urban_stop_file, urban_edge_file, urban_stats_edge_file)\n",
    "    urban_nodes = process_nodes(urban_stop_file, urban_node_file)\n",
    "else:\n",
    "    urban_edges = pd.read_csv(urban_edge_file)\n",
    "    urban_edge_stats = pd.read_csv(urban_stats_edge_file)\n",
    "    urban_nodes = pd.read_csv(urban_node_file)\n"
   ]
  },
  {
   "cell_type": "markdown",
   "metadata": {},
   "source": [
    "### PROCESS INTERURBAN BUS NODES AND EDGES"
   ]
  },
  {
   "cell_type": "code",
   "execution_count": null,
   "metadata": {},
   "outputs": [
    {
     "name": "stdout",
     "output_type": "stream",
     "text": [
      "paradas mergeadas con sus nombres\n",
      "dataframe shifteado\n",
      "dataframe almacenado en csv\n",
      "paradas mergeadas con sus nombres\n",
      "dataframe shifteado\n",
      "dataframe almacenado en csv\n",
      "paradas mergeadas con sus nombres\n",
      "dataframe shifteado\n",
      "dataframe almacenado en csv\n",
      "paradas mergeadas con sus nombres\n",
      "dataframe shifteado\n",
      "dataframe almacenado en csv\n",
      "paradas mergeadas con sus nombres\n",
      "dataframe shifteado\n",
      "dataframe almacenado en csv\n",
      "paradas mergeadas con sus nombres\n",
      "dataframe shifteado\n",
      "dataframe almacenado en csv\n",
      "paradas mergeadas con sus nombres\n",
      "dataframe shifteado\n",
      "dataframe almacenado en csv\n",
      "paradas mergeadas con sus nombres\n",
      "dataframe shifteado\n",
      "dataframe almacenado en csv\n",
      "paradas mergeadas con sus nombres\n",
      "dataframe shifteado\n",
      "dataframe almacenado en csv\n",
      "paradas mergeadas con sus nombres\n",
      "dataframe shifteado\n",
      "dataframe almacenado en csv\n",
      "paradas mergeadas con sus nombres\n",
      "dataframe shifteado\n",
      "dataframe almacenado en csv\n",
      "paradas mergeadas con sus nombres\n",
      "dataframe shifteado\n",
      "dataframe almacenado en csv\n",
      "paradas mergeadas con sus nombres\n",
      "dataframe shifteado\n",
      "dataframe almacenado en csv\n",
      "paradas mergeadas con sus nombres\n",
      "dataframe shifteado\n",
      "dataframe almacenado en csv\n",
      "paradas mergeadas con sus nombres\n",
      "dataframe shifteado\n",
      "dataframe almacenado en csv\n",
      "paradas mergeadas con sus nombres\n",
      "dataframe shifteado\n",
      "dataframe almacenado en csv\n",
      "paradas mergeadas con sus nombres\n",
      "dataframe shifteado\n",
      "dataframe almacenado en csv\n",
      "paradas mergeadas con sus nombres\n",
      "dataframe shifteado\n",
      "dataframe almacenado en csv\n",
      "paradas mergeadas con sus nombres\n",
      "dataframe shifteado\n",
      "dataframe almacenado en csv\n",
      "paradas mergeadas con sus nombres\n",
      "dataframe shifteado\n",
      "dataframe almacenado en csv\n",
      "paradas mergeadas con sus nombres\n",
      "dataframe shifteado\n",
      "dataframe almacenado en csv\n",
      "paradas mergeadas con sus nombres\n",
      "dataframe shifteado\n",
      "dataframe almacenado en csv\n",
      "paradas mergeadas con sus nombres\n",
      "dataframe shifteado\n",
      "dataframe almacenado en csv\n",
      "paradas mergeadas con sus nombres\n",
      "dataframe shifteado\n",
      "dataframe almacenado en csv\n"
     ]
    }
   ],
   "source": [
    "\n",
    "\n",
    "if not os.path.exists(BASE_URI_CERCANIAS + \"_edges.csv\") or not os.path.exists(BASE_URI_CERCANIAS + \"_stats_edges.csv\") or not os.path.exists(BASE_URI_CERCANIAS + \"_nodes.csv\"):\n",
    "\n",
    "    for folder in os.listdir(BASE_URI_INTERURBAN):\n",
    "        # if folder is zip, continue\n",
    "        if folder.endswith('.zip') or folder.endswith('.txt'):\n",
    "            continue\n",
    "        stop_times_file = BASE_URI_INTERURBAN + folder + \"/stop_times.txt\"  # Input file path\n",
    "        stop_file = BASE_URI_INTERURBAN + folder + \"/stops.txt\"  # Input file path\n",
    "        edge_file = BASE_URI_INTERURBAN + folder + \"/_edges.csv\"  # Output file path\n",
    "        stats_edge_file = BASE_URI_INTERURBAN + folder + \"/_stats_edges.csv\"  # Output file path\n",
    "        node_file = BASE_URI_INTERURBAN + folder + \"/_nodes.csv\"  # Output file path\n",
    "\n",
    "\n",
    "        result, stats = process_edges(stop_times_file, stop_file, edge_file, stats_edge_file)\n",
    "        nodes = process_nodes(stop_file, node_file)\n",
    "\n",
    "    edges = []\n",
    "    nodes = []\n",
    "    edge_stats = []\n",
    "\n",
    "    for folder in os.listdir(BASE_URI_INTERURBAN):\n",
    "        if folder.endswith('.zip') or folder.endswith('.txt'):\n",
    "            continue\n",
    "        edge_file = BASE_URI_INTERURBAN + folder + \"/_edges.csv\"  # Output file path\n",
    "        stats_edge_file = BASE_URI_INTERURBAN + folder + \"/_stats_edges.csv\"  # Output file path\n",
    "        node_file = BASE_URI_INTERURBAN + folder + \"/_nodes.csv\"  # Output file path\n",
    "\n",
    "        edges.append(pd.read_csv(edge_file))\n",
    "        edge_stats.append(pd.read_csv(stats_edge_file))\n",
    "        nodes.append(pd.read_csv(node_file))\n",
    "    \n",
    "    inter_edges = pd.concat(edges)\n",
    "    inter_edge_stats = pd.concat(edge_stats)\n",
    "    inter_nodes = pd.concat(nodes)\n",
    "\n",
    "    inter_edges.to_csv(BASE_URI_INTERURBAN + \"_edges.csv\", index=False)\n",
    "    inter_edge_stats.to_csv(BASE_URI_INTERURBAN + \"_stats_edges.csv\", index=False)\n",
    "    inter_nodes.to_csv(BASE_URI_INTERURBAN + \"_nodes.csv\", index=False)\n",
    "else:\n",
    "    inter_edges = pd.read_csv(BASE_URI_INTERURBAN + \"_edges.csv\")\n",
    "    inter_edge_stats = pd.read_csv(BASE_URI_INTERURBAN + \"_stats_edges.csv\")\n",
    "    inter_nodes = pd.read_csv(BASE_URI_INTERURBAN + \"_nodes.csv\")\n"
   ]
  },
  {
   "cell_type": "markdown",
   "metadata": {},
   "source": [
    "### PROCESS CERCANIAS NODES AND EDGES"
   ]
  },
  {
   "cell_type": "code",
   "execution_count": 207,
   "metadata": {},
   "outputs": [],
   "source": [
    "cercanias_stop_times_file = BASE_URI_CERCANIAS + \"stop_times.txt\"  # Input file path\n",
    "cercanias_stop_file = BASE_URI_CERCANIAS + \"stops.txt\"  # Input file path\n",
    "cercanias_edge_file = BASE_URI_CERCANIAS + \"_edges.csv\"  # Output file path\n",
    "cercanias_stats_edge_file = BASE_URI_CERCANIAS + \"_stats_edges.csv\"  # Output file path\n",
    "cercanias_node_file = BASE_URI_CERCANIAS + \"_nodes.csv\"  # Output file path\n",
    "\n",
    "if not os.path.exists(cercanias_edge_file) or not os.path.exists(cercanias_stats_edge_file) or not os.path.exists(cercanias_node_file):\n",
    "    cercanias_edges, cercanias_edge_stats = process_edges(cercanias_stop_times_file, cercanias_stop_file, cercanias_edge_file, cercanias_stats_edge_file)\n",
    "    cercanias_nodes = process_nodes(cercanias_stop_file, cercanias_node_file)\n",
    "else:\n",
    "    cercanias_edges = pd.read_csv(cercanias_edge_file)\n",
    "    cercanias_edge_stats = pd.read_csv(cercanias_stats_edge_file)\n",
    "    cercanias_nodes = pd.read_csv(cercanias_node_file)"
   ]
  },
  {
   "cell_type": "markdown",
   "metadata": {},
   "source": [
    "# EMBED BUS NODES INTO METRO NODES"
   ]
  },
  {
   "cell_type": "markdown",
   "metadata": {},
   "source": [
    "#### GET DISTANCE RELATION BETWEEN A ROW AND THE METRO NODES"
   ]
  },
  {
   "cell_type": "code",
   "execution_count": null,
   "metadata": {},
   "outputs": [],
   "source": [
    "metro_nodes = pd.read_csv(BASE_URI_METRO + \"_nodes.csv\")\n",
    "def get_closest_metro_stop(row):\n",
    "    min_distance = np.inf\n",
    "    closest_stop = None\n",
    "    metro_lat = None\n",
    "    metro_lon = None\n",
    "    for i, metro_stop in metro_nodes.iterrows():\n",
    "        distance = geodesic((row['stop_lat'], row['stop_lon']), (metro_stop['stop_lat'], metro_stop['stop_lon'])).meters\n",
    "        if distance < min_distance:\n",
    "            min_distance = distance\n",
    "            closest_stop = metro_stop['stop_name']\n",
    "            metro_lat = metro_stop['stop_lat']\n",
    "            metro_lon = metro_stop['stop_lon']\n",
    "    return closest_stop, min_distance, metro_lat, metro_lon\n",
    "\n"
   ]
  },
  {
   "cell_type": "markdown",
   "metadata": {},
   "source": [
    "#### If no nodes are removed, the map of Madrid with the following"
   ]
  },
  {
   "cell_type": "code",
   "execution_count": 13,
   "metadata": {},
   "outputs": [],
   "source": [
    "def nodes_to_gdf(nodes):\n",
    "    gdf =  gpd.GeoDataFrame(\n",
    "        nodes, geometry=gpd.points_from_xy(nodes.stop_lon, nodes.stop_lat), crs=\"EPSG:4326\"\n",
    "    )\n",
    "    gdf = gdf.to_crs(\"EPSG:25830\")\n",
    "    return gdf\n",
    "\n",
    "madrid_shp = gpd.read_file(\"MadridSHP/Barrios.shp\")"
   ]
  },
  {
   "cell_type": "code",
   "execution_count": 4,
   "metadata": {},
   "outputs": [
    {
     "name": "stdout",
     "output_type": "stream",
     "text": [
      "total urban nodes 4803\n",
      "total interurban nodes 9897\n",
      "total cercanias nodes 89\n"
     ]
    }
   ],
   "source": [
    "urban_nodes = pd.read_csv(BASE_URI_URBAN + \"_nodes.csv\")\n",
    "inter_nodes = pd.read_csv(BASE_URI_INTERURBAN + \"_nodes.csv\")\n",
    "cercanias_nodes = pd.read_csv(BASE_URI_CERCANIAS + \"_nodes.csv\")\n",
    "\n",
    "metro_nodes = pd.read_csv(BASE_URI_METRO + \"_nodes.csv\")\n",
    "\n",
    "print(\"total urban nodes\", len(urban_nodes))\n",
    "print(\"total interurban nodes\", len(inter_nodes))\n",
    "print(\"total cercanias nodes\", len(cercanias_nodes))"
   ]
  },
  {
   "cell_type": "code",
   "execution_count": 6,
   "metadata": {},
   "outputs": [],
   "source": [
    "urban_nodes['transporte'] = 'urban'\n",
    "inter_nodes['transporte'] = 'interurban'\n",
    "metro_nodes['transporte'] = 'metro'"
   ]
  },
  {
   "cell_type": "code",
   "execution_count": 222,
   "metadata": {},
   "outputs": [
    {
     "data": {
      "text/plain": [
       "<Axes: >"
      ]
     },
     "execution_count": 222,
     "metadata": {},
     "output_type": "execute_result"
    },
    {
     "data": {
      "image/png": "[encoded data removed]",
      "text/plain": [
       "<Figure size 1500x1500 with 1 Axes>"
      ]
     },
     "metadata": {},
     "output_type": "display_data"
    }
   ],
   "source": [
    "urban_shapes = nodes_to_gdf(urban_nodes)\n",
    "inter_shapes = nodes_to_gdf(inter_nodes)\n",
    "cercanias_shapes = nodes_to_gdf(cercanias_nodes)\n",
    "metro_shapes = nodes_to_gdf(metro_nodes)\n",
    "\n",
    "# hollow circles with 500m radius\n",
    "metro_circles = metro_shapes.copy()\n",
    "metro_circles['geometry'] = metro_circles.to_crs(\"EPSG:25830\").buffer(500)\n",
    "\n",
    "metro_circles = metro_shapes.copy()\n",
    "metro_circles['geometry'] = metro_circles.to_crs(\"EPSG:25830\").buffer(500)\n",
    "\n",
    "\n",
    "fig, ax = plt.subplots(figsize=(15, 15))\n",
    "madrid_shp.boundary.plot(ax=ax, color='black')\n",
    "urban_shapes.plot(ax=ax, color='red', markersize=1)\n",
    "metro_shapes.plot(ax=ax, color='yellow', markersize=1)\n",
    "inter_shapes.plot(ax=ax, color='blue', markersize=1)\n",
    "cercanias_shapes.plot(ax=ax, color='green', markersize=1)\n",
    "metro_circles.boundary.plot(ax=ax, color='blue')\n"
   ]
  },
  {
   "cell_type": "markdown",
   "metadata": {},
   "source": [
    "#### As we want to use Metro stops as the most important layer, we are going to remove urban bus stops, interurban bus stops and cercanias stops that are far away from metro stops"
   ]
  },
  {
   "cell_type": "code",
   "execution_count": null,
   "metadata": {},
   "outputs": [],
   "source": []
  },
  {
   "cell_type": "code",
   "execution_count": 223,
   "metadata": {},
   "outputs": [],
   "source": [
    "if os.path.exists(BASE_URI_URBAN + \"_metro_distance_nodes.csv\"):\n",
    "    urban_nodes_metro_distance = pd.read_csv(BASE_URI_URBAN + \"_metro_distance_nodes.csv\")\n",
    "else:\n",
    "    urban_metro_stops = urban_nodes.apply(get_closest_metro_stop, axis=1, result_type='expand')\n",
    "    urban_nodes_metro_distance = urban_nodes.copy()\n",
    "    urban_nodes_metro_distance[['closest_metro_stop', 'distance_to_metro', 'metro_lat', 'metro_lon']] = urban_metro_stops\n",
    "    urban_nodes_metro_distance.to_csv(BASE_URI_URBAN + \"_metro_distance_nodes.csv\", index=False)\n",
    "\n",
    "if os.path.exists(BASE_URI_INTERURBAN + \"_metro_distance_nodes.csv\"):\n",
    "    inter_nodes_metro_distance = pd.read_csv(BASE_URI_INTERURBAN + \"_metro_distance_nodes.csv\")\n",
    "else:\n",
    "    inter_metro_stops = inter_nodes.apply(get_closest_metro_stop, axis=1, result_type='expand')\n",
    "    inter_nodes_metro_distance = inter_nodes.copy()\n",
    "    inter_nodes_metro_distance[['closest_metro_stop', 'distance_to_metro', 'metro_lat', 'metro_lon']] = inter_metro_stops\n",
    "    inter_nodes_metro_distance.to_csv(BASE_URI_INTERURBAN + \"_metro_distance_nodes.csv\", index=False)\n",
    "\n",
    "if os.path.exists(BASE_URI_CERCANIAS + \"_metro_distance_nodes.csv\"):\n",
    "    cercanias_nodes_metro_distance = pd.read_csv(BASE_URI_CERCANIAS + \"_metro_distance_nodes.csv\")\n",
    "else:\n",
    "    cercanias_metro_stops = cercanias_nodes.apply(get_closest_metro_stop, axis=1, result_type='expand')\n",
    "    cercanias_nodes_metro_distance = cercanias_nodes.copy()\n",
    "    cercanias_nodes_metro_distance[['closest_metro_stop', 'distance_to_metro', 'metro_lat', 'metro_lon']] = cercanias_metro_stops\n",
    "    cercanias_nodes_metro_distance.to_csv(BASE_URI_CERCANIAS + \"_metro_distance_nodes.csv\", index=False)\n",
    "\n",
    "metro_nodes = pd.read_csv(BASE_URI_METRO + \"_nodes.csv\")"
   ]
  },
  {
   "cell_type": "code",
   "execution_count": 224,
   "metadata": {},
   "outputs": [
    {
     "name": "stdout",
     "output_type": "stream",
     "text": [
      "Urban nodes close to metro:  3275\n",
      "Interurban nodes close to metro:  1551\n",
      "Cercanias nodes close to metro:  28\n"
     ]
    }
   ],
   "source": [
    "DISTANCE_TO_METRO_THRESHOLD = 600 \n",
    "urban_nodes_close_to_metro = urban_nodes_metro_distance[urban_nodes_metro_distance['distance_to_metro'] < DISTANCE_TO_METRO_THRESHOLD]\n",
    "inter_nodes_close_to_metro = inter_nodes_metro_distance[inter_nodes_metro_distance['distance_to_metro'] < DISTANCE_TO_METRO_THRESHOLD]\n",
    "cercanias_nodes_close_to_metro = cercanias_nodes_metro_distance[cercanias_nodes_metro_distance['distance_to_metro'] < DISTANCE_TO_METRO_THRESHOLD]\n",
    "\n",
    "urban_nodes_close_to_metro.to_csv(BASE_URI_URBAN + \"_nodes_close_to_metro.csv\", index=False)\n",
    "inter_nodes_close_to_metro.to_csv(BASE_URI_INTERURBAN + \"_nodes_close_to_metro.csv\", index=False)\n",
    "cercanias_nodes_close_to_metro.to_csv(BASE_URI_CERCANIAS + \"_nodes_close_to_metro.csv\", index=False)\n",
    "\n",
    "print(\"Urban nodes close to metro: \", len(urban_nodes_close_to_metro))\n",
    "print(\"Interurban nodes close to metro: \", len(inter_nodes_close_to_metro))\n",
    "print(\"Cercanias nodes close to metro: \", len(cercanias_nodes_close_to_metro))"
   ]
  },
  {
   "cell_type": "code",
   "execution_count": 225,
   "metadata": {},
   "outputs": [
    {
     "data": {
      "image/png": "[encoded data removed]",
      "text/plain": [
       "<Figure size 1500x1500 with 1 Axes>"
      ]
     },
     "metadata": {},
     "output_type": "display_data"
    }
   ],
   "source": [
    "madrid_shp = gpd.read_file(\"MadridSHP/Barrios.shp\")\n",
    "\n",
    "urban_shapes = nodes_to_gdf(urban_nodes_close_to_metro)\n",
    "inter_shapes = nodes_to_gdf(inter_nodes_close_to_metro)\n",
    "cercanias_shapes = nodes_to_gdf(urban_nodes_close_to_metro)\n",
    "\n",
    "metro_nodes = pd.read_csv(BASE_URI_METRO + \"_nodes.csv\")\n",
    "metro_shapes = nodes_to_gdf(metro_nodes)\n",
    "\n",
    "circle = metro_shapes.copy()\n",
    "circle['geometry'] = circle.to_crs(\"EPSG:25830\").buffer(DISTANCE_TO_METRO_THRESHOLD)\n",
    "\n",
    "fig, ax = plt.subplots(figsize=(15, 15))\n",
    "madrid_shp.boundary.plot(ax=ax, color='black')\n",
    "urban_shapes.plot(ax=ax, color='red', markersize=1)\n",
    "metro_shapes.plot(ax=ax, color='yellow', markersize=1)\n",
    "inter_shapes.plot(ax=ax, color='blue', markersize=1)\n",
    "cercanias_shapes.plot(ax=ax, color='green', markersize=1)\n",
    "circle.boundary.plot(ax=ax, color='blue')\n",
    "plt.show()\n"
   ]
  },
  {
   "cell_type": "code",
   "execution_count": 226,
   "metadata": {},
   "outputs": [
    {
     "data": {
      "text/html": [
       "<div>\n",
       "<style scoped>\n",
       "    .dataframe tbody tr th:only-of-type {\n",
       "        vertical-align: middle;\n",
       "    }\n",
       "\n",
       "    .dataframe tbody tr th {\n",
       "        vertical-align: top;\n",
       "    }\n",
       "\n",
       "    .dataframe thead th {\n",
       "        text-align: right;\n",
       "    }\n",
       "</style>\n",
       "<table border=\"1\" class=\"dataframe\">\n",
       "  <thead>\n",
       "    <tr style=\"text-align: right;\">\n",
       "      <th></th>\n",
       "      <th>Shape_Leng</th>\n",
       "      <th>Shape_Area</th>\n",
       "      <th>CODDIS</th>\n",
       "      <th>COD_DIS_TX</th>\n",
       "      <th>NOMDIS</th>\n",
       "      <th>COD_BAR</th>\n",
       "      <th>COD_DISBAR</th>\n",
       "      <th>COD_DISB</th>\n",
       "      <th>NUM_BAR</th>\n",
       "      <th>NOMBRE</th>\n",
       "      <th>BARRIO_MAY</th>\n",
       "      <th>BARRIO_MT</th>\n",
       "      <th>FCH_ALTA</th>\n",
       "      <th>FCH_BAJA</th>\n",
       "      <th>OBSERVACIO</th>\n",
       "      <th>APROBACION</th>\n",
       "      <th>geometry</th>\n",
       "    </tr>\n",
       "  </thead>\n",
       "  <tbody>\n",
       "    <tr>\n",
       "      <th>0</th>\n",
       "      <td>5754.828568</td>\n",
       "      <td>1.469906e+06</td>\n",
       "      <td>1</td>\n",
       "      <td>01</td>\n",
       "      <td>Centro</td>\n",
       "      <td>011</td>\n",
       "      <td>11</td>\n",
       "      <td>1-1</td>\n",
       "      <td>1</td>\n",
       "      <td>Palacio</td>\n",
       "      <td>PALACIO</td>\n",
       "      <td>PALACIO</td>\n",
       "      <td>0000/00/00</td>\n",
       "      <td>0000/00/00</td>\n",
       "      <td>None</td>\n",
       "      <td>None</td>\n",
       "      <td>POLYGON ((440112.785 4474645.921, 440078.075 4...</td>\n",
       "    </tr>\n",
       "    <tr>\n",
       "      <th>1</th>\n",
       "      <td>4275.226840</td>\n",
       "      <td>1.033724e+06</td>\n",
       "      <td>1</td>\n",
       "      <td>01</td>\n",
       "      <td>Centro</td>\n",
       "      <td>012</td>\n",
       "      <td>12</td>\n",
       "      <td>1-2</td>\n",
       "      <td>2</td>\n",
       "      <td>Embajadores</td>\n",
       "      <td>EMBAJADORES</td>\n",
       "      <td>EMBAJADORES</td>\n",
       "      <td>0000/00/00</td>\n",
       "      <td>0000/00/00</td>\n",
       "      <td>None</td>\n",
       "      <td>None</td>\n",
       "      <td>POLYGON ((440277.382 4473980.839, 440368.002 4...</td>\n",
       "    </tr>\n",
       "    <tr>\n",
       "      <th>2</th>\n",
       "      <td>3731.081359</td>\n",
       "      <td>5.918742e+05</td>\n",
       "      <td>1</td>\n",
       "      <td>01</td>\n",
       "      <td>Centro</td>\n",
       "      <td>013</td>\n",
       "      <td>13</td>\n",
       "      <td>1-3</td>\n",
       "      <td>3</td>\n",
       "      <td>Cortes</td>\n",
       "      <td>CORTES</td>\n",
       "      <td>CORTES</td>\n",
       "      <td>0000/00/00</td>\n",
       "      <td>0000/00/00</td>\n",
       "      <td>None</td>\n",
       "      <td>None</td>\n",
       "      <td>POLYGON ((440780.52 4474528.375, 440907.759 44...</td>\n",
       "    </tr>\n",
       "    <tr>\n",
       "      <th>3</th>\n",
       "      <td>3597.421057</td>\n",
       "      <td>7.394135e+05</td>\n",
       "      <td>1</td>\n",
       "      <td>01</td>\n",
       "      <td>Centro</td>\n",
       "      <td>014</td>\n",
       "      <td>14</td>\n",
       "      <td>1-4</td>\n",
       "      <td>4</td>\n",
       "      <td>Justicia</td>\n",
       "      <td>JUSTICIA</td>\n",
       "      <td>JUSTICIA</td>\n",
       "      <td>0000/00/00</td>\n",
       "      <td>0000/00/00</td>\n",
       "      <td>None</td>\n",
       "      <td>None</td>\n",
       "      <td>POLYGON ((440991.949 4474492.423, 440907.759 4...</td>\n",
       "    </tr>\n",
       "    <tr>\n",
       "      <th>4</th>\n",
       "      <td>4060.075563</td>\n",
       "      <td>9.480264e+05</td>\n",
       "      <td>1</td>\n",
       "      <td>01</td>\n",
       "      <td>Centro</td>\n",
       "      <td>015</td>\n",
       "      <td>15</td>\n",
       "      <td>1-5</td>\n",
       "      <td>5</td>\n",
       "      <td>Universidad</td>\n",
       "      <td>UNIVERSIDAD</td>\n",
       "      <td>UNIVERSIDAD</td>\n",
       "      <td>0000/00/00</td>\n",
       "      <td>0000/00/00</td>\n",
       "      <td>None</td>\n",
       "      <td>None</td>\n",
       "      <td>POLYGON ((440517.952 4474758.368, 440476.812 4...</td>\n",
       "    </tr>\n",
       "    <tr>\n",
       "      <th>...</th>\n",
       "      <td>...</td>\n",
       "      <td>...</td>\n",
       "      <td>...</td>\n",
       "      <td>...</td>\n",
       "      <td>...</td>\n",
       "      <td>...</td>\n",
       "      <td>...</td>\n",
       "      <td>...</td>\n",
       "      <td>...</td>\n",
       "      <td>...</td>\n",
       "      <td>...</td>\n",
       "      <td>...</td>\n",
       "      <td>...</td>\n",
       "      <td>...</td>\n",
       "      <td>...</td>\n",
       "      <td>...</td>\n",
       "      <td>...</td>\n",
       "    </tr>\n",
       "    <tr>\n",
       "      <th>126</th>\n",
       "      <td>6601.764852</td>\n",
       "      <td>2.031267e+06</td>\n",
       "      <td>21</td>\n",
       "      <td>21</td>\n",
       "      <td>Barajas</td>\n",
       "      <td>211</td>\n",
       "      <td>211</td>\n",
       "      <td>21-1</td>\n",
       "      <td>1</td>\n",
       "      <td>Alameda de Osuna</td>\n",
       "      <td>ALAMEDA DE OSUNA</td>\n",
       "      <td>ALAMEDA DE OSUNA</td>\n",
       "      <td>0000/00/00</td>\n",
       "      <td>0000/00/00</td>\n",
       "      <td>None</td>\n",
       "      <td>None</td>\n",
       "      <td>POLYGON ((450614.387 4479399.407, 450752.655 4...</td>\n",
       "    </tr>\n",
       "    <tr>\n",
       "      <th>127</th>\n",
       "      <td>28381.693927</td>\n",
       "      <td>2.966473e+07</td>\n",
       "      <td>21</td>\n",
       "      <td>21</td>\n",
       "      <td>Barajas</td>\n",
       "      <td>212</td>\n",
       "      <td>212</td>\n",
       "      <td>21-2</td>\n",
       "      <td>2</td>\n",
       "      <td>Aeropuerto</td>\n",
       "      <td>AEROPUERTO</td>\n",
       "      <td>AEROPUERTO</td>\n",
       "      <td>0000/00/00</td>\n",
       "      <td>0000/00/00</td>\n",
       "      <td>None</td>\n",
       "      <td>None</td>\n",
       "      <td>POLYGON ((451940.168 4484759.459, 452134.178 4...</td>\n",
       "    </tr>\n",
       "    <tr>\n",
       "      <th>128</th>\n",
       "      <td>3388.646303</td>\n",
       "      <td>5.493940e+05</td>\n",
       "      <td>21</td>\n",
       "      <td>21</td>\n",
       "      <td>Barajas</td>\n",
       "      <td>213</td>\n",
       "      <td>213</td>\n",
       "      <td>21-3</td>\n",
       "      <td>3</td>\n",
       "      <td>Casco Histórico de Barajas</td>\n",
       "      <td>CASCO HISTORICO DE BARAJAS</td>\n",
       "      <td>CASCO HISTÓRICO DE BARAJAS</td>\n",
       "      <td>0000/00/00</td>\n",
       "      <td>0000/00/00</td>\n",
       "      <td>None</td>\n",
       "      <td>None</td>\n",
       "      <td>POLYGON ((451288.265 4480266.282, 451233.112 4...</td>\n",
       "    </tr>\n",
       "    <tr>\n",
       "      <th>129</th>\n",
       "      <td>10723.320808</td>\n",
       "      <td>4.798439e+06</td>\n",
       "      <td>21</td>\n",
       "      <td>21</td>\n",
       "      <td>Barajas</td>\n",
       "      <td>214</td>\n",
       "      <td>214</td>\n",
       "      <td>21-4</td>\n",
       "      <td>4</td>\n",
       "      <td>Timón</td>\n",
       "      <td>TIMON</td>\n",
       "      <td>TIMÓN</td>\n",
       "      <td>0000/00/00</td>\n",
       "      <td>0000/00/00</td>\n",
       "      <td>None</td>\n",
       "      <td>None</td>\n",
       "      <td>POLYGON ((450698.531 4479953.328, 450639.81 44...</td>\n",
       "    </tr>\n",
       "    <tr>\n",
       "      <th>130</th>\n",
       "      <td>9654.799473</td>\n",
       "      <td>4.672512e+06</td>\n",
       "      <td>21</td>\n",
       "      <td>21</td>\n",
       "      <td>Barajas</td>\n",
       "      <td>215</td>\n",
       "      <td>215</td>\n",
       "      <td>21-5</td>\n",
       "      <td>5</td>\n",
       "      <td>Corralejos</td>\n",
       "      <td>CORRALEJOS</td>\n",
       "      <td>CORRALEJOS</td>\n",
       "      <td>0000/00/00</td>\n",
       "      <td>0000/00/00</td>\n",
       "      <td>None</td>\n",
       "      <td>None</td>\n",
       "      <td>POLYGON ((448664.865 4478188.825, 448663.072 4...</td>\n",
       "    </tr>\n",
       "  </tbody>\n",
       "</table>\n",
       "<p>131 rows × 17 columns</p>\n",
       "</div>"
      ],
      "text/plain": [
       "       Shape_Leng    Shape_Area CODDIS COD_DIS_TX   NOMDIS COD_BAR COD_DISBAR  \\\n",
       "0     5754.828568  1.469906e+06      1         01   Centro     011         11   \n",
       "1     4275.226840  1.033724e+06      1         01   Centro     012         12   \n",
       "2     3731.081359  5.918742e+05      1         01   Centro     013         13   \n",
       "3     3597.421057  7.394135e+05      1         01   Centro     014         14   \n",
       "4     4060.075563  9.480264e+05      1         01   Centro     015         15   \n",
       "..            ...           ...    ...        ...      ...     ...        ...   \n",
       "126   6601.764852  2.031267e+06     21         21  Barajas     211        211   \n",
       "127  28381.693927  2.966473e+07     21         21  Barajas     212        212   \n",
       "128   3388.646303  5.493940e+05     21         21  Barajas     213        213   \n",
       "129  10723.320808  4.798439e+06     21         21  Barajas     214        214   \n",
       "130   9654.799473  4.672512e+06     21         21  Barajas     215        215   \n",
       "\n",
       "    COD_DISB NUM_BAR                      NOMBRE                  BARRIO_MAY  \\\n",
       "0        1-1       1                     Palacio                     PALACIO   \n",
       "1        1-2       2                 Embajadores                 EMBAJADORES   \n",
       "2        1-3       3                      Cortes                      CORTES   \n",
       "3        1-4       4                    Justicia                    JUSTICIA   \n",
       "4        1-5       5                 Universidad                 UNIVERSIDAD   \n",
       "..       ...     ...                         ...                         ...   \n",
       "126     21-1       1            Alameda de Osuna            ALAMEDA DE OSUNA   \n",
       "127     21-2       2                  Aeropuerto                  AEROPUERTO   \n",
       "128     21-3       3  Casco Histórico de Barajas  CASCO HISTORICO DE BARAJAS   \n",
       "129     21-4       4                       Timón                       TIMON   \n",
       "130     21-5       5                  Corralejos                  CORRALEJOS   \n",
       "\n",
       "                      BARRIO_MT    FCH_ALTA    FCH_BAJA OBSERVACIO APROBACION  \\\n",
       "0                       PALACIO  0000/00/00  0000/00/00       None       None   \n",
       "1                   EMBAJADORES  0000/00/00  0000/00/00       None       None   \n",
       "2                        CORTES  0000/00/00  0000/00/00       None       None   \n",
       "3                      JUSTICIA  0000/00/00  0000/00/00       None       None   \n",
       "4                   UNIVERSIDAD  0000/00/00  0000/00/00       None       None   \n",
       "..                          ...         ...         ...        ...        ...   \n",
       "126            ALAMEDA DE OSUNA  0000/00/00  0000/00/00       None       None   \n",
       "127                  AEROPUERTO  0000/00/00  0000/00/00       None       None   \n",
       "128  CASCO HISTÓRICO DE BARAJAS  0000/00/00  0000/00/00       None       None   \n",
       "129                       TIMÓN  0000/00/00  0000/00/00       None       None   \n",
       "130                  CORRALEJOS  0000/00/00  0000/00/00       None       None   \n",
       "\n",
       "                                              geometry  \n",
       "0    POLYGON ((440112.785 4474645.921, 440078.075 4...  \n",
       "1    POLYGON ((440277.382 4473980.839, 440368.002 4...  \n",
       "2    POLYGON ((440780.52 4474528.375, 440907.759 44...  \n",
       "3    POLYGON ((440991.949 4474492.423, 440907.759 4...  \n",
       "4    POLYGON ((440517.952 4474758.368, 440476.812 4...  \n",
       "..                                                 ...  \n",
       "126  POLYGON ((450614.387 4479399.407, 450752.655 4...  \n",
       "127  POLYGON ((451940.168 4484759.459, 452134.178 4...  \n",
       "128  POLYGON ((451288.265 4480266.282, 451233.112 4...  \n",
       "129  POLYGON ((450698.531 4479953.328, 450639.81 44...  \n",
       "130  POLYGON ((448664.865 4478188.825, 448663.072 4...  \n",
       "\n",
       "[131 rows x 17 columns]"
      ]
     },
     "execution_count": 226,
     "metadata": {},
     "output_type": "execute_result"
    }
   ],
   "source": [
    "madrid_shp"
   ]
  },
  {
   "cell_type": "code",
   "execution_count": 228,
   "metadata": {},
   "outputs": [
    {
     "data": {
      "text/html": [
       "<div>\n",
       "<style scoped>\n",
       "    .dataframe tbody tr th:only-of-type {\n",
       "        vertical-align: middle;\n",
       "    }\n",
       "\n",
       "    .dataframe tbody tr th {\n",
       "        vertical-align: top;\n",
       "    }\n",
       "\n",
       "    .dataframe thead th {\n",
       "        text-align: right;\n",
       "    }\n",
       "</style>\n",
       "<table border=\"1\" class=\"dataframe\">\n",
       "  <thead>\n",
       "    <tr style=\"text-align: right;\">\n",
       "      <th></th>\n",
       "      <th>stop_id</th>\n",
       "      <th>stop_name</th>\n",
       "      <th>stop_lat</th>\n",
       "      <th>stop_lon</th>\n",
       "      <th>geometry</th>\n",
       "    </tr>\n",
       "  </thead>\n",
       "  <tbody>\n",
       "    <tr>\n",
       "      <th>0</th>\n",
       "      <td>par_4_1</td>\n",
       "      <td>PLAZA DE CASTILLA</td>\n",
       "      <td>40.46690</td>\n",
       "      <td>-3.68917</td>\n",
       "      <td>POINT (441575.052 4479808.7)</td>\n",
       "    </tr>\n",
       "    <tr>\n",
       "      <th>1</th>\n",
       "      <td>par_4_10</td>\n",
       "      <td>TRIBUNAL</td>\n",
       "      <td>40.42619</td>\n",
       "      <td>-3.70110</td>\n",
       "      <td>POINT (440527.795 4475297.848)</td>\n",
       "    </tr>\n",
       "    <tr>\n",
       "      <th>2</th>\n",
       "      <td>par_4_11</td>\n",
       "      <td>GRAN VIA</td>\n",
       "      <td>40.42001</td>\n",
       "      <td>-3.70180</td>\n",
       "      <td>POINT (440462.967 4474612.341)</td>\n",
       "    </tr>\n",
       "    <tr>\n",
       "      <th>3</th>\n",
       "      <td>par_4_12</td>\n",
       "      <td>SOL</td>\n",
       "      <td>40.41688</td>\n",
       "      <td>-3.70326</td>\n",
       "      <td>POINT (440336.342 4474265.897)</td>\n",
       "    </tr>\n",
       "    <tr>\n",
       "      <th>4</th>\n",
       "      <td>par_4_13</td>\n",
       "      <td>TIRSO DE MOLINA</td>\n",
       "      <td>40.41235</td>\n",
       "      <td>-3.70466</td>\n",
       "      <td>POINT (440213.557 4473764.015)</td>\n",
       "    </tr>\n",
       "    <tr>\n",
       "      <th>...</th>\n",
       "      <td>...</td>\n",
       "      <td>...</td>\n",
       "      <td>...</td>\n",
       "      <td>...</td>\n",
       "      <td>...</td>\n",
       "    </tr>\n",
       "    <tr>\n",
       "      <th>285</th>\n",
       "      <td>par_4_234</td>\n",
       "      <td>HOSPITAL SEVERO OCHOA</td>\n",
       "      <td>40.32177</td>\n",
       "      <td>-3.76797</td>\n",
       "      <td>POINT (434754.721 4463754.488)</td>\n",
       "    </tr>\n",
       "    <tr>\n",
       "      <th>286</th>\n",
       "      <td>par_4_235</td>\n",
       "      <td>LEGANES CENTRAL</td>\n",
       "      <td>40.32899</td>\n",
       "      <td>-3.77154</td>\n",
       "      <td>POINT (434458.401 4464558.532)</td>\n",
       "    </tr>\n",
       "    <tr>\n",
       "      <th>287</th>\n",
       "      <td>par_4_236</td>\n",
       "      <td>SAN NICASIO</td>\n",
       "      <td>40.33616</td>\n",
       "      <td>-3.77587</td>\n",
       "      <td>POINT (434097.544 4465357.604)</td>\n",
       "    </tr>\n",
       "    <tr>\n",
       "      <th>288</th>\n",
       "      <td>par_4_237</td>\n",
       "      <td>OPERA</td>\n",
       "      <td>40.41809</td>\n",
       "      <td>-3.70928</td>\n",
       "      <td>POINT (439826.687 4474404.289)</td>\n",
       "    </tr>\n",
       "    <tr>\n",
       "      <th>289</th>\n",
       "      <td>par_4_238</td>\n",
       "      <td>PRINCIPE PIO</td>\n",
       "      <td>40.42099</td>\n",
       "      <td>-3.72033</td>\n",
       "      <td>POINT (438891.852 4474733.771)</td>\n",
       "    </tr>\n",
       "  </tbody>\n",
       "</table>\n",
       "<p>290 rows × 5 columns</p>\n",
       "</div>"
      ],
      "text/plain": [
       "       stop_id              stop_name  stop_lat  stop_lon  \\\n",
       "0      par_4_1      PLAZA DE CASTILLA  40.46690  -3.68917   \n",
       "1     par_4_10               TRIBUNAL  40.42619  -3.70110   \n",
       "2     par_4_11               GRAN VIA  40.42001  -3.70180   \n",
       "3     par_4_12                    SOL  40.41688  -3.70326   \n",
       "4     par_4_13        TIRSO DE MOLINA  40.41235  -3.70466   \n",
       "..         ...                    ...       ...       ...   \n",
       "285  par_4_234  HOSPITAL SEVERO OCHOA  40.32177  -3.76797   \n",
       "286  par_4_235        LEGANES CENTRAL  40.32899  -3.77154   \n",
       "287  par_4_236            SAN NICASIO  40.33616  -3.77587   \n",
       "288  par_4_237                  OPERA  40.41809  -3.70928   \n",
       "289  par_4_238           PRINCIPE PIO  40.42099  -3.72033   \n",
       "\n",
       "                           geometry  \n",
       "0      POINT (441575.052 4479808.7)  \n",
       "1    POINT (440527.795 4475297.848)  \n",
       "2    POINT (440462.967 4474612.341)  \n",
       "3    POINT (440336.342 4474265.897)  \n",
       "4    POINT (440213.557 4473764.015)  \n",
       "..                              ...  \n",
       "285  POINT (434754.721 4463754.488)  \n",
       "286  POINT (434458.401 4464558.532)  \n",
       "287  POINT (434097.544 4465357.604)  \n",
       "288  POINT (439826.687 4474404.289)  \n",
       "289  POINT (438891.852 4474733.771)  \n",
       "\n",
       "[290 rows x 5 columns]"
      ]
     },
     "execution_count": 228,
     "metadata": {},
     "output_type": "execute_result"
    }
   ],
   "source": [
    "metro_shapes"
   ]
  },
  {
   "cell_type": "code",
   "execution_count": 246,
   "metadata": {},
   "outputs": [],
   "source": [
    "metro_shapes['BARRIO_MT'] = metro_shapes.geometry.apply(lambda x: madrid_shp[madrid_shp.geometry.contains(x)]['BARRIO_MAY'].values[0] if len(madrid_shp[madrid_shp.geometry.contains(x)]) > 0 else 'Outside')\n"
   ]
  },
  {
   "cell_type": "code",
   "execution_count": 245,
   "metadata": {},
   "outputs": [
    {
     "data": {
      "image/png": "[encoded data removed]",
      "text/plain": [
       "<Figure size 1500x1500 with 1 Axes>"
      ]
     },
     "metadata": {},
     "output_type": "display_data"
    }
   ],
   "source": [
    "madrid_shp = gpd.read_file(\"MadridSHP/Barrios.shp\")\n",
    "\n",
    "\n",
    "circle = metro_shapes.copy()\n",
    "circle['geometry'] = circle.to_crs(\"EPSG:25830\").buffer(DISTANCE_TO_METRO_THRESHOLD)\n",
    "\n",
    "fig, ax = plt.subplots(figsize=(15, 15))\n",
    "madrid_shp.boundary.plot(ax=ax, color='black')\n",
    "metro_shapes[metro_shapes['BARRIO_MT'] == 'Outside'].plot(ax=ax, color='green', markersize=3)\n",
    "metro_shapes[metro_shapes['BARRIO_MT'] != 'Outside'].plot(ax=ax, color='red', markersize=3)\n",
    "plt.show()"
   ]
  },
  {
   "cell_type": "code",
   "execution_count": null,
   "metadata": {},
   "outputs": [],
   "source": []
  },
  {
   "cell_type": "markdown",
   "metadata": {},
   "source": [
    "#### Now that we know which nodes are to be removed, we need to generate the new edges"
   ]
  },
  {
   "cell_type": "code",
   "execution_count": 5,
   "metadata": {},
   "outputs": [],
   "source": [
    "# for folder in interurban_folders merge trips.txt and stop_times.txt\n",
    "stop_times = []\n",
    "trips = []\n",
    "\n",
    "for folder in os.listdir(BASE_URI_INTERURBAN):\n",
    "    if folder.endswith('.zip') or folder.endswith('.txt') or folder.endswith('.csv'):\n",
    "        continue\n",
    "    stop_times_file = BASE_URI_INTERURBAN + folder + \"/stop_times.txt\"  # Input file path\n",
    "    trips_file = BASE_URI_INTERURBAN + folder + \"/trips.txt\"  # Input file path\n",
    "    stop_times.append(pd.read_csv(stop_times_file))\n",
    "    trips.append(pd.read_csv(trips_file))\n",
    "\n",
    "stop_times = pd.concat(stop_times)\n",
    "trips = pd.concat(trips)\n",
    "\n",
    "stop_times.to_csv(BASE_URI_INTERURBAN + \"stop_times.txt\", index=False)\n",
    "trips.to_csv(BASE_URI_INTERURBAN + \"trips.txt\", index=False)"
   ]
  },
  {
   "cell_type": "code",
   "execution_count": 9,
   "metadata": {},
   "outputs": [],
   "source": [
    "# read all interesting files up to now\n",
    "metro_edges = pd.read_csv(BASE_URI_METRO + \"_edges.csv\")\n",
    "metro_edge_stats = pd.read_csv(BASE_URI_METRO + \"_stats_edges.csv\")\n",
    "metro_nodes = pd.read_csv(BASE_URI_METRO + \"_nodes.csv\")\n",
    "\n",
    "urban_edges = pd.read_csv(BASE_URI_URBAN + \"_edges.csv\")\n",
    "urban_edge_stats = pd.read_csv(BASE_URI_URBAN + \"_stats_edges.csv\")\n",
    "urban_nodes = pd.read_csv(BASE_URI_URBAN + \"_nodes.csv\")\n",
    "\n",
    "inter_edges = pd.read_csv(BASE_URI_INTERURBAN + \"_edges.csv\")\n",
    "inter_edge_stats = pd.read_csv(BASE_URI_INTERURBAN + \"_stats_edges.csv\")\n",
    "inter_nodes = pd.read_csv(BASE_URI_INTERURBAN + \"_nodes.csv\")\n",
    "\n",
    "urban_nodes_close_to_metro = pd.read_csv(BASE_URI_URBAN + \"_nodes_close_to_metro.csv\")\n",
    "inter_nodes_close_to_metro = pd.read_csv(BASE_URI_INTERURBAN + \"_nodes_close_to_metro.csv\")\n",
    "\n",
    "urban_trips = pd.read_csv(BASE_URI_URBAN + \"trips.txt\")\n",
    "inter_trips = pd.read_csv(BASE_URI_INTERURBAN + \"trips.txt\")\n",
    "metro_trips = pd.read_csv(BASE_URI_METRO + \"trips.txt\")\n"
   ]
  },
  {
   "cell_type": "code",
   "execution_count": null,
   "metadata": {},
   "outputs": [
    {
     "data": {
      "application/vnd.microsoft.datawrangler.viewer.v0+json": {
       "columns": [
        {
         "name": "index",
         "rawType": "int64",
         "type": "integer"
        },
        {
         "name": "stop_id",
         "rawType": "object",
         "type": "string"
        },
        {
         "name": "stop_name",
         "rawType": "object",
         "type": "string"
        },
        {
         "name": "stop_lat",
         "rawType": "float64",
         "type": "float"
        },
        {
         "name": "stop_lon",
         "rawType": "float64",
         "type": "float"
        }
       ],
       "ref": "c371c88c-e009-4c83-b972-0813d32b2a0a",
       "rows": [
        [
         "0",
         "par_4_1",
         "PLAZA DE CASTILLA",
         "40.4669",
         "-3.68917"
        ],
        [
         "1",
         "par_4_10",
         "TRIBUNAL",
         "40.42619",
         "-3.7011"
        ],
        [
         "2",
         "par_4_11",
         "GRAN VIA",
         "40.42001",
         "-3.7018"
        ],
        [
         "3",
         "par_4_12",
         "SOL",
         "40.41688",
         "-3.70326"
        ],
        [
         "4",
         "par_4_13",
         "TIRSO DE MOLINA",
         "40.41235",
         "-3.70466"
        ],
        [
         "5",
         "par_4_14",
         "ANTON MARTIN",
         "40.41246",
         "-3.69937"
        ],
        [
         "6",
         "par_4_15",
         "ESTACION DEL ARTE",
         "40.40885",
         "-3.69249"
        ],
        [
         "7",
         "par_4_16",
         "ATOCHA",
         "40.40659",
         "-3.68938"
        ],
        [
         "8",
         "par_4_17",
         "MENENDEZ PELAYO",
         "40.40445",
         "-3.68098"
        ],
        [
         "9",
         "par_4_18",
         "PACIFICO",
         "40.40126",
         "-3.67514"
        ],
        [
         "10",
         "par_4_19",
         "PUENTE DE VALLECAS",
         "40.39819",
         "-3.66906"
        ],
        [
         "11",
         "par_4_2",
         "VALDEACEDERAS",
         "40.46442",
         "-3.69506"
        ],
        [
         "12",
         "par_4_20",
         "NUEVA NUMANCIA",
         "40.39554",
         "-3.66414"
        ],
        [
         "13",
         "par_4_21",
         "PORTAZGO",
         "40.39266",
         "-3.65868"
        ],
        [
         "14",
         "par_4_22",
         "BUENOS AIRES",
         "40.39156",
         "-3.65391"
        ],
        [
         "15",
         "par_4_23",
         "ALTO DEL ARENAL",
         "40.38977",
         "-3.64522"
        ],
        [
         "16",
         "par_4_24",
         "MIGUEL HERNANDEZ",
         "40.38732",
         "-3.63951"
        ],
        [
         "17",
         "par_4_25",
         "SIERRA DE GUADALUPE",
         "40.38216",
         "-3.62472"
        ],
        [
         "18",
         "par_4_26",
         "VILLA DE VALLECAS",
         "40.3796",
         "-3.6213"
        ],
        [
         "19",
         "par_4_261",
         "CHAMARTIN",
         "40.47203",
         "-3.68259"
        ],
        [
         "20",
         "par_4_262",
         "BAMBU",
         "40.47682",
         "-3.67637"
        ],
        [
         "21",
         "par_4_263",
         "PINAR DE CHAMARTIN",
         "40.48014",
         "-3.6668"
        ],
        [
         "22",
         "par_4_27",
         "CONGOSTO",
         "40.37238",
         "-3.61884"
        ],
        [
         "23",
         "par_4_293",
         "LA GAVIA",
         "40.37019",
         "-3.61346"
        ],
        [
         "24",
         "par_4_294",
         "LAS SUERTES",
         "40.36323",
         "-3.59953"
        ],
        [
         "25",
         "par_4_295",
         "VALDECARROS",
         "40.36007",
         "-3.59316"
        ],
        [
         "26",
         "par_4_3",
         "TETUAN",
         "40.46055",
         "-3.69825"
        ],
        [
         "27",
         "par_4_4",
         "ESTRECHO",
         "40.45429",
         "-3.70302"
        ],
        [
         "28",
         "par_4_5",
         "ALVARADO",
         "40.45033",
         "-3.70331"
        ],
        [
         "29",
         "par_4_6",
         "CUATRO CAMINOS",
         "40.44697",
         "-3.70397"
        ],
        [
         "30",
         "par_4_7",
         "RIOS ROSAS",
         "40.44198",
         "-3.70133"
        ],
        [
         "31",
         "par_4_8",
         "IGLESIA",
         "40.43492",
         "-3.69898"
        ],
        [
         "32",
         "par_4_9",
         "BILBAO",
         "40.42906",
         "-3.70218"
        ],
        [
         "33",
         "par_4_260",
         "LA ELIPA",
         "40.42662",
         "-3.65052"
        ],
        [
         "34",
         "par_4_28",
         "VENTAS",
         "40.43088",
         "-3.66366"
        ],
        [
         "35",
         "par_4_29",
         "MANUEL BECERRA",
         "40.4279",
         "-3.66926"
        ],
        [
         "36",
         "par_4_30",
         "GOYA",
         "40.42455",
         "-3.67591"
        ],
        [
         "37",
         "par_4_31",
         "PRINCIPE DE VERGARA",
         "40.42294",
         "-3.68012"
        ],
        [
         "38",
         "par_4_32",
         "RETIRO",
         "40.42031",
         "-3.68624"
        ],
        [
         "39",
         "par_4_322",
         "LA ALMUDENA",
         "40.42361",
         "-3.63914"
        ],
        [
         "40",
         "par_4_323",
         "ALSACIA",
         "40.41829",
         "-3.62351"
        ],
        [
         "41",
         "par_4_324",
         "AVENIDA DE GUADALAJARA",
         "40.42239",
         "-3.61206"
        ],
        [
         "42",
         "par_4_325",
         "LAS ROSAS",
         "40.42375",
         "-3.60331"
        ],
        [
         "43",
         "par_4_33",
         "BANCO DE ESPAÑA",
         "40.41922",
         "-3.69497"
        ],
        [
         "44",
         "par_4_34",
         "SEVILLA",
         "40.41805",
         "-3.69925"
        ],
        [
         "45",
         "par_4_35",
         "SOL",
         "40.41685",
         "-3.70326"
        ],
        [
         "46",
         "par_4_36",
         "OPERA",
         "40.41809",
         "-3.70942"
        ],
        [
         "47",
         "par_4_37",
         "SANTO DOMINGO",
         "40.42132",
         "-3.70796"
        ],
        [
         "48",
         "par_4_38",
         "NOVICIADO",
         "40.42484",
         "-3.70742"
        ],
        [
         "49",
         "par_4_39",
         "SAN BERNARDO",
         "40.43001",
         "-3.70557"
        ]
       ],
       "shape": {
        "columns": 4,
        "rows": 290
       }
      },
      "text/html": [
       "<div>\n",
       "<style scoped>\n",
       "    .dataframe tbody tr th:only-of-type {\n",
       "        vertical-align: middle;\n",
       "    }\n",
       "\n",
       "    .dataframe tbody tr th {\n",
       "        vertical-align: top;\n",
       "    }\n",
       "\n",
       "    .dataframe thead th {\n",
       "        text-align: right;\n",
       "    }\n",
       "</style>\n",
       "<table border=\"1\" class=\"dataframe\">\n",
       "  <thead>\n",
       "    <tr style=\"text-align: right;\">\n",
       "      <th></th>\n",
       "      <th>stop_id</th>\n",
       "      <th>stop_name</th>\n",
       "      <th>stop_lat</th>\n",
       "      <th>stop_lon</th>\n",
       "    </tr>\n",
       "  </thead>\n",
       "  <tbody>\n",
       "    <tr>\n",
       "      <th>0</th>\n",
       "      <td>par_4_1</td>\n",
       "      <td>PLAZA DE CASTILLA</td>\n",
       "      <td>40.46690</td>\n",
       "      <td>-3.68917</td>\n",
       "    </tr>\n",
       "    <tr>\n",
       "      <th>1</th>\n",
       "      <td>par_4_10</td>\n",
       "      <td>TRIBUNAL</td>\n",
       "      <td>40.42619</td>\n",
       "      <td>-3.70110</td>\n",
       "    </tr>\n",
       "    <tr>\n",
       "      <th>2</th>\n",
       "      <td>par_4_11</td>\n",
       "      <td>GRAN VIA</td>\n",
       "      <td>40.42001</td>\n",
       "      <td>-3.70180</td>\n",
       "    </tr>\n",
       "    <tr>\n",
       "      <th>3</th>\n",
       "      <td>par_4_12</td>\n",
       "      <td>SOL</td>\n",
       "      <td>40.41688</td>\n",
       "      <td>-3.70326</td>\n",
       "    </tr>\n",
       "    <tr>\n",
       "      <th>4</th>\n",
       "      <td>par_4_13</td>\n",
       "      <td>TIRSO DE MOLINA</td>\n",
       "      <td>40.41235</td>\n",
       "      <td>-3.70466</td>\n",
       "    </tr>\n",
       "    <tr>\n",
       "      <th>...</th>\n",
       "      <td>...</td>\n",
       "      <td>...</td>\n",
       "      <td>...</td>\n",
       "      <td>...</td>\n",
       "    </tr>\n",
       "    <tr>\n",
       "      <th>285</th>\n",
       "      <td>par_4_234</td>\n",
       "      <td>HOSPITAL SEVERO OCHOA</td>\n",
       "      <td>40.32177</td>\n",
       "      <td>-3.76797</td>\n",
       "    </tr>\n",
       "    <tr>\n",
       "      <th>286</th>\n",
       "      <td>par_4_235</td>\n",
       "      <td>LEGANES CENTRAL</td>\n",
       "      <td>40.32899</td>\n",
       "      <td>-3.77154</td>\n",
       "    </tr>\n",
       "    <tr>\n",
       "      <th>287</th>\n",
       "      <td>par_4_236</td>\n",
       "      <td>SAN NICASIO</td>\n",
       "      <td>40.33616</td>\n",
       "      <td>-3.77587</td>\n",
       "    </tr>\n",
       "    <tr>\n",
       "      <th>288</th>\n",
       "      <td>par_4_237</td>\n",
       "      <td>OPERA</td>\n",
       "      <td>40.41809</td>\n",
       "      <td>-3.70928</td>\n",
       "    </tr>\n",
       "    <tr>\n",
       "      <th>289</th>\n",
       "      <td>par_4_238</td>\n",
       "      <td>PRINCIPE PIO</td>\n",
       "      <td>40.42099</td>\n",
       "      <td>-3.72033</td>\n",
       "    </tr>\n",
       "  </tbody>\n",
       "</table>\n",
       "<p>290 rows × 4 columns</p>\n",
       "</div>"
      ],
      "text/plain": [
       "       stop_id              stop_name  stop_lat  stop_lon\n",
       "0      par_4_1      PLAZA DE CASTILLA  40.46690  -3.68917\n",
       "1     par_4_10               TRIBUNAL  40.42619  -3.70110\n",
       "2     par_4_11               GRAN VIA  40.42001  -3.70180\n",
       "3     par_4_12                    SOL  40.41688  -3.70326\n",
       "4     par_4_13        TIRSO DE MOLINA  40.41235  -3.70466\n",
       "..         ...                    ...       ...       ...\n",
       "285  par_4_234  HOSPITAL SEVERO OCHOA  40.32177  -3.76797\n",
       "286  par_4_235        LEGANES CENTRAL  40.32899  -3.77154\n",
       "287  par_4_236            SAN NICASIO  40.33616  -3.77587\n",
       "288  par_4_237                  OPERA  40.41809  -3.70928\n",
       "289  par_4_238           PRINCIPE PIO  40.42099  -3.72033\n",
       "\n",
       "[290 rows x 4 columns]"
      ]
     },
     "execution_count": 11,
     "metadata": {},
     "output_type": "execute_result"
    }
   ],
   "source": [
    "metro_nodes\n",
    "urban_nodes\n",
    "inter_nodes"
   ]
  },
  {
   "cell_type": "code",
   "execution_count": null,
   "metadata": {},
   "outputs": [],
   "source": []
  },
  {
   "cell_type": "code",
   "execution_count": null,
   "metadata": {},
   "outputs": [],
   "source": [
    "# functions  to embed the edges into the metro graph\n",
    "\n",
    "def remove_outside_edges(edges, embedding_nodes):\n",
    "    # create a new column with the stop_id of the closest metro stop\n",
    "    edges = edges.set_index(['trip_id', 'stop_id'])\n",
    "    edges['is_in'] = edges.index.get_level_values('stop_id').isin(embedding_nodes['stop_id']).astype(int)\n",
    "    edges['embedded_stop_sequence'] = edges['is_in'].groupby('trip_id').cumsum()\n",
    "\n",
    "    embedded_edges = edges.reset_index().groupby(['trip_id', 'embedded_stop_sequence']).aggregate({\n",
    "        'stop_id': 'first',\n",
    "        'stop_name': 'first',\n",
    "        'departure_time': 'first',\n",
    "        'next_arrival_time': 'first',\n",
    "        'time_diff': 'sum',\n",
    "    })\n",
    "\n",
    "    embedded_edges = embedded_edges.reset_index()\n",
    "    embedded_edges['next_embedded_stop_id'] = embedded_edges.groupby('trip_id')['stop_id'].shift(-1)\n",
    "\n",
    "    # if the first stop of a trip is far from the metro, the first embedded_stop_sequence is 0, so we need to remove it\n",
    "    embedded_edges = embedded_edges[embedded_edges['embedded_stop_sequence'] > 0]\n",
    "\n",
    "    embedded_edges['next_embedded_stop_id'] = embedded_edges['next_embedded_stop_id'].astype(str).str.replace('nan', '')\n",
    "    \n",
    "\n",
    "    return embedded_edges\n",
    "\n",
    "\n",
    "def get_closest_inside_edges(edges, embedding_nodes):\n",
    "    # create a new column with the stop_id of the closest metro stop\n",
    "\n",
    "    edges = edges.set_index(['stop_id'])\n",
    "    embedding_nodes = embedding_nodes.set_index(['stop_id'])\n",
    "    \n",
    "\n",
    "    # edges.loc[:,'closest_metro_stop'] = edges.loc[:,'stop_id'].map(embedding_nodes.set_index('stop_id').loc[:,'closest_metro_stop'])\n",
    "    # edges.loc[:,'distance_to_metro'] = edges.loc[:,'stop_id'].map(embedding_nodes.set_index('stop_id').loc[:,'distance_to_metro'])\n",
    "\n",
    "    edges = edges.join(embedding_nodes[['closest_metro_stop','distance_to_metro']], on='stop_id', rsuffix='_closest', how='inner')\n",
    "    edges = edges.reset_index()\n",
    "\n",
    "    edges.loc[:,'is_closest_metro'] = edges.groupby(['trip_id','closest_metro_stop'])['distance_to_metro'].transform(lambda x: x == x.min()).astype(int)\n",
    "    edges.loc[:,'embedded_stop_sequence'] = edges.groupby(['trip_id'])['is_closest_metro'].cumsum()\n",
    "\n",
    "    \n",
    "    embedded_edges = edges.groupby(['trip_id','embedded_stop_sequence']).agg({\n",
    "        'stop_name': 'first',\n",
    "        'stop_id': 'first',\n",
    "        'departure_time': 'first',\n",
    "        'next_arrival_time': 'first',\n",
    "        'time_diff': 'sum',\n",
    "        'closest_metro_stop': 'first',\n",
    "        'distance_to_metro': 'first',\n",
    "    }).reset_index()\n",
    "    \n",
    "    embedded_edges['next_embedded_stop_id'] = embedded_edges.groupby('trip_id')['stop_id'].shift(-1)\n",
    "\n",
    "    #if the first stop of a trip is not the closest metro stop, the embedded_stop_sequence is 0, so we need to remove it\n",
    "    embedded_edges = embedded_edges[embedded_edges['embedded_stop_sequence'] > 0]\n",
    "    embedded_edges['next_embedded_stop_id'] = embedded_edges['next_embedded_stop_id'].astype(str).str.replace('nan', '')\n",
    "    embedded_edges['next_metro_stop'] = embedded_edges['next_embedded_stop_id'].map(embedding_nodes['closest_metro_stop'])\n",
    "\n",
    "\n",
    "    return embedded_edges"
   ]
  },
  {
   "cell_type": "code",
   "execution_count": 204,
   "metadata": {},
   "outputs": [
    {
     "name": "stdout",
     "output_type": "stream",
     "text": [
      "The number of urban edges is:  2692781\n",
      "The number of urban trips is:  103742\n",
      "The number of urban edges after the embedding:  840748\n",
      "The number of urban trips after the embedding:  103478\n"
     ]
    }
   ],
   "source": [
    "print(\"The number of urban edges is: \", len(urban_edges))\n",
    "print(\"The number of urban trips is: \", len(urban_edges['trip_id'].unique()))\n",
    "\n",
    "embedded_urban_edges = remove_outside_edges(urban_edges,urban_nodes_close_to_metro)\n",
    "embedded_urban_edges = get_closest_inside_edges(embedded_urban_edges,urban_nodes_close_to_metro)\n",
    "\n",
    "print(\"The number of urban edges after the embedding: \", len(embedded_urban_edges))\n",
    "print(\"The number of urban trips after the embedding: \", len(embedded_urban_edges['trip_id'].unique()))\n",
    "\n",
    "# save the embedded edges to a new file\n",
    "embedded_urban_edges.to_csv(BASE_URI_URBAN + \"_embedded_edges.csv\", index=False)\n",
    "\n"
   ]
  },
  {
   "cell_type": "code",
   "execution_count": 161,
   "metadata": {},
   "outputs": [
    {
     "name": "stdout",
     "output_type": "stream",
     "text": [
      "The number of interurban edges is:  1512834\n",
      "The number of interurban trips is:  58765\n",
      "The number of interurban edges after the embedding:  168434\n",
      "The number of interurban trips after the embedding:  46673\n"
     ]
    }
   ],
   "source": [
    "print(\"The number of interurban edges is: \", len(inter_edges))\n",
    "print(\"The number of interurban trips is: \", len(inter_edges['trip_id'].unique()))\n",
    "\n",
    "embedded_inter_edges = remove_outside_edges(inter_edges, inter_nodes_close_to_metro)\n",
    "embedded_inter_edges = get_closest_inside_edges(embedded_inter_edges, inter_nodes_close_to_metro)\n",
    "\n",
    "print(\"The number of interurban edges after the embedding: \", len(embedded_inter_edges))\n",
    "print(\"The number of interurban trips after the embedding: \", len(embedded_inter_edges['trip_id'].unique()))\n",
    "\n",
    "embedded_inter_edges.to_csv(BASE_URI_INTERURBAN + \"_embedded_edges.csv\", index=False)"
   ]
  },
  {
   "cell_type": "code",
   "execution_count": null,
   "metadata": {},
   "outputs": [],
   "source": [
    "# function to aggregate the embedded edges into a new dataframe\n",
    "\n",
    "def get_embedded_stats_edges(edges):\n",
    "\n",
    "    # mean distance to closest metro stop\n",
    "    df_aux = edges.groupby(['closest_metro_stop']).agg({\n",
    "        'distance_to_metro': 'mean',\n",
    "    }).reset_index()\n",
    "\n",
    "    \n",
    "\n",
    "    # drop next_metro_stop nan\n",
    "    edges = edges.dropna(subset=['next_metro_stop'])\n",
    "\n",
    "    \n",
    "    \n",
    "    edges.loc[:,'stop1'] = edges.loc[:,['closest_metro_stop', 'next_metro_stop']].min(axis=1)\n",
    "    edges.loc[:,'stop2'] = edges.loc[:,['closest_metro_stop', 'next_metro_stop']].max(axis=1)\n",
    "\n",
    "\n",
    "\n",
    "    grouped_edges = edges.groupby(['stop1', 'stop2']).agg({\n",
    "        'time_diff': 'mean',\n",
    "    }).reset_index()\n",
    "    grouped_edges.columns = ['stop1', 'stop2', 'mean_time_diff']\n",
    "    \n",
    "    grouped_edges['distance_to_stop1'] = grouped_edges.join(df_aux.set_index('closest_metro_stop'), on='stop1', rsuffix='_closest')['distance_to_metro']\n",
    "    grouped_edges['distance_to_stop2'] = grouped_edges.join(df_aux.set_index('closest_metro_stop'), on='stop2', rsuffix='_closest')['distance_to_metro']\n",
    "    \n",
    "    return grouped_edges"
   ]
  },
  {
   "cell_type": "code",
   "execution_count": 200,
   "metadata": {},
   "outputs": [
    {
     "name": "stderr",
     "output_type": "stream",
     "text": [
      "C:\\Users\\Julio\\AppData\\Local\\Temp\\ipykernel_10232\\3938153305.py:15: SettingWithCopyWarning: \n",
      "A value is trying to be set on a copy of a slice from a DataFrame.\n",
      "Try using .loc[row_indexer,col_indexer] = value instead\n",
      "\n",
      "See the caveats in the documentation: https://pandas.pydata.org/pandas-docs/stable/user_guide/indexing.html#returning-a-view-versus-a-copy\n",
      "  edges.loc[:,'stop1'] = edges.loc[:,['closest_metro_stop', 'next_metro_stop']].min(axis=1)\n",
      "C:\\Users\\Julio\\AppData\\Local\\Temp\\ipykernel_10232\\3938153305.py:16: SettingWithCopyWarning: \n",
      "A value is trying to be set on a copy of a slice from a DataFrame.\n",
      "Try using .loc[row_indexer,col_indexer] = value instead\n",
      "\n",
      "See the caveats in the documentation: https://pandas.pydata.org/pandas-docs/stable/user_guide/indexing.html#returning-a-view-versus-a-copy\n",
      "  edges.loc[:,'stop2'] = edges.loc[:,['closest_metro_stop', 'next_metro_stop']].max(axis=1)\n",
      "C:\\Users\\Julio\\AppData\\Local\\Temp\\ipykernel_10232\\3938153305.py:15: SettingWithCopyWarning: \n",
      "A value is trying to be set on a copy of a slice from a DataFrame.\n",
      "Try using .loc[row_indexer,col_indexer] = value instead\n",
      "\n",
      "See the caveats in the documentation: https://pandas.pydata.org/pandas-docs/stable/user_guide/indexing.html#returning-a-view-versus-a-copy\n",
      "  edges.loc[:,'stop1'] = edges.loc[:,['closest_metro_stop', 'next_metro_stop']].min(axis=1)\n",
      "C:\\Users\\Julio\\AppData\\Local\\Temp\\ipykernel_10232\\3938153305.py:16: SettingWithCopyWarning: \n",
      "A value is trying to be set on a copy of a slice from a DataFrame.\n",
      "Try using .loc[row_indexer,col_indexer] = value instead\n",
      "\n",
      "See the caveats in the documentation: https://pandas.pydata.org/pandas-docs/stable/user_guide/indexing.html#returning-a-view-versus-a-copy\n",
      "  edges.loc[:,'stop2'] = edges.loc[:,['closest_metro_stop', 'next_metro_stop']].max(axis=1)\n"
     ]
    }
   ],
   "source": [
    "embedded_grouped_urban_edges = get_embedded_stats_edges(embedded_urban_edges)\n",
    "embedded_grouped_urban_edges.to_csv(BASE_URI_URBAN + \"_embedded_stats_edges.csv\", index=False)\n",
    "embedded_grouped_inter_edges = get_embedded_stats_edges(embedded_inter_edges)   \n",
    "embedded_grouped_inter_edges.to_csv(BASE_URI_INTERURBAN + \"_embedded_stats_edges.csv\", index=False)"
   ]
  },
  {
   "cell_type": "code",
   "execution_count": 201,
   "metadata": {},
   "outputs": [
    {
     "data": {
      "application/vnd.microsoft.datawrangler.viewer.v0+json": {
       "columns": [
        {
         "name": "index",
         "rawType": "int64",
         "type": "integer"
        },
        {
         "name": "stop1",
         "rawType": "object",
         "type": "string"
        },
        {
         "name": "stop2",
         "rawType": "object",
         "type": "string"
        },
        {
         "name": "mean_time_diff",
         "rawType": "float64",
         "type": "float"
        },
        {
         "name": "distance_to_stop1",
         "rawType": "float64",
         "type": "float"
        },
        {
         "name": "distance_to_stop2",
         "rawType": "float64",
         "type": "float"
        }
       ],
       "conversionMethod": "pd.DataFrame",
       "ref": "b3a5c655-6089-4a29-bead-91d9fa6efdcf",
       "rows": [
        [
         "0",
         "ABRANTES",
         "OPAÑEL",
         "202.47822222222223",
         "203.29806674868004",
         "167.3285524044498"
        ],
        [
         "1",
         "ABRANTES",
         "OPORTO",
         "255.24562737642586",
         "203.29806674868004",
         "150.8170270051066"
        ],
        [
         "2",
         "ABRANTES",
         "PAN BENDITO",
         "265.18554396423247",
         "203.29806674868004",
         "195.80770498334942"
        ],
        [
         "3",
         "ABRANTES",
         "PLAZA ELIPTICA",
         "174.34194214876032",
         "203.29806674868004",
         "79.86862571738709"
        ],
        [
         "4",
         "ACACIAS",
         "EMBAJADORES",
         "135.1377037807839",
         "143.03470622205944",
         "80.3612971462629"
        ],
        [
         "5",
         "ACACIAS",
         "LEGAZPI",
         "781.7833037300178",
         "143.03470622205944",
         "116.87246264187306"
        ],
        [
         "6",
         "ACACIAS",
         "PIRAMIDES",
         "122.44591679506934",
         "143.03470622205944",
         "157.53644119013578"
        ],
        [
         "7",
         "ACACIAS",
         "PUERTA DE TOLEDO",
         "142.89623865110246",
         "143.03470622205944",
         "96.32791199560032"
        ],
        [
         "8",
         "AEROPUERTO T-4",
         "AEROPUERTO T1-T2-T3",
         "693.9974446337309",
         "52.99013283065949",
         "90.13333403689423"
        ],
        [
         "9",
         "AEROPUERTO T1-T2-T3",
         "ALAMEDA DE OSUNA",
         "518.7939110070257",
         "90.13333403689423",
         "196.43766408218625"
        ],
        [
         "10",
         "AEROPUERTO T1-T2-T3",
         "BARAJAS",
         "415.9906323185012",
         "90.13333403689423",
         "274.1521351842093"
        ],
        [
         "11",
         "AEROPUERTO T1-T2-T3",
         "CANILLEJAS",
         "558.9842931937172",
         "90.13333403689423",
         "121.77961394526609"
        ],
        [
         "12",
         "AEROPUERTO T1-T2-T3",
         "ODONNELL",
         "1467.7004991680533",
         "90.13333403689423",
         "165.35254986771332"
        ],
        [
         "13",
         "ALAMEDA DE OSUNA",
         "BARAJAS",
         "748.5806451612904",
         "196.43766408218625",
         "274.1521351842093"
        ],
        [
         "14",
         "ALAMEDA DE OSUNA",
         "CANILLEJAS",
         "794.5849056603773",
         "196.43766408218625",
         "121.77961394526609"
        ],
        [
         "15",
         "ALAMEDA DE OSUNA",
         "EL CAPRICHO",
         "191.68724733553842",
         "196.43766408218625",
         "352.3083938789709"
        ],
        [
         "16",
         "ALAMEDA DE OSUNA",
         "FERIA DE MADRID",
         "1119.1039260969976",
         "196.43766408218625",
         "128.381153456215"
        ],
        [
         "17",
         "ALFONSO XIII",
         "AVENIDA DE LA PAZ",
         "270.0726511981742",
         "149.1248757836679",
         "110.65760520749971"
        ],
        [
         "18",
         "ALFONSO XIII",
         "CARTAGENA",
         "368.0840707964602",
         "149.1248757836679",
         "162.48905043284026"
        ],
        [
         "19",
         "ALFONSO XIII",
         "CONCHA ESPINA",
         "310.36806342015853",
         "149.1248757836679",
         "162.85164334551035"
        ],
        [
         "20",
         "ALFONSO XIII",
         "PARQUE DE LAS AVENIDAS",
         "464.58717948717947",
         "149.1248757836679",
         "234.83125119515338"
        ],
        [
         "21",
         "ALFONSO XIII",
         "PROSPERIDAD",
         "208.17844827586208",
         "149.1248757836679",
         "74.72716078704497"
        ],
        [
         "22",
         "ALMENDRALES",
         "HOSPITAL 12 DE OCTUBRE",
         "326.9330992098332",
         "154.92925509170698",
         "141.35727400193858"
        ],
        [
         "23",
         "ALMENDRALES",
         "LEGAZPI",
         "281.27707740273826",
         "154.92925509170698",
         "116.87246264187306"
        ],
        [
         "24",
         "ALMENDRALES",
         "SAN FERMIN-ORCASUR",
         "1928.5979797979799",
         "154.92925509170698",
         "148.5797098868095"
        ],
        [
         "25",
         "ALMENDRALES",
         "USERA",
         "191.57828282828282",
         "154.92925509170698",
         "418.3844790996364"
        ],
        [
         "26",
         "ALONSO CANO",
         "CANAL",
         "141.00728155339806",
         "166.03990216444123",
         "142.01243636485827"
        ],
        [
         "27",
         "ALONSO CANO",
         "GREGORIO MARAÑON",
         "183.13004484304932",
         "166.03990216444123",
         "157.3356337344927"
        ],
        [
         "28",
         "ALONSO CANO",
         "IGLESIA",
         "170.53168044077134",
         "166.03990216444123",
         "171.75840907266152"
        ],
        [
         "29",
         "ALONSO CANO",
         "NUEVOS MINISTERIOS",
         "301.963133640553",
         "166.03990216444123",
         "143.20730545769976"
        ],
        [
         "30",
         "ALONSO CANO",
         "RIOS ROSAS",
         "86.49104618284638",
         "166.03990216444123",
         "127.459185348402"
        ],
        [
         "31",
         "ALONSO MARTINEZ",
         "BILBAO",
         "219.43463579353593",
         "69.94470915974682",
         "81.0255909515802"
        ],
        [
         "32",
         "ALONSO MARTINEZ",
         "CHUECA",
         "164.95437956204378",
         "69.94470915974682",
         "200.44862894373824"
        ],
        [
         "33",
         "ALONSO MARTINEZ",
         "COLON",
         "131.29232111692843",
         "69.94470915974682",
         "99.59762136057478"
        ],
        [
         "34",
         "ALONSO MARTINEZ",
         "IGLESIA",
         "223.41884816753927",
         "69.94470915974682",
         "171.75840907266152"
        ],
        [
         "35",
         "ALONSO MARTINEZ",
         "RUBEN DARIO",
         "191.7582644628099",
         "69.94470915974682",
         "175.6667206338929"
        ],
        [
         "36",
         "ALSACIA",
         "AVENIDA DE GUADALAJARA",
         "232.09711406321577",
         "222.67470559035374",
         "117.94346854676027"
        ],
        [
         "37",
         "ALSACIA",
         "GARCIA NOBLEJAS",
         "296.40896358543415",
         "222.67470559035374",
         "229.149981311993"
        ],
        [
         "38",
         "ALSACIA",
         "LA ALMUDENA",
         "367.28035714285716",
         "222.67470559035374",
         "155.89519446459107"
        ],
        [
         "39",
         "ALSACIA",
         "ODONNELL",
         "829.6750392464678",
         "222.67470559035374",
         "165.35254986771332"
        ],
        [
         "40",
         "ALSACIA",
         "PAVONES",
         "687.1947791164658",
         "222.67470559035374",
         "55.1864688257274"
        ],
        [
         "41",
         "ALSACIA",
         "SAN BLAS",
         "293.25992779783394",
         "222.67470559035374",
         "129.17463732735916"
        ],
        [
         "42",
         "ALSACIA",
         "SIMANCAS",
         "234.40271343481137",
         "222.67470559035374",
         "376.3269801451735"
        ],
        [
         "43",
         "ALTO DE EXTREMADURA",
         "BATAN",
         "541.5172413793103",
         "37.41291368219745",
         "257.2394682329588"
        ],
        [
         "44",
         "ALTO DE EXTREMADURA",
         "LUCERO",
         "228.7147806004619",
         "37.41291368219745",
         "154.7416634240578"
        ],
        [
         "45",
         "ALTO DE EXTREMADURA",
         "PUERTA DEL ANGEL",
         "280.8478260869565",
         "37.41291368219745",
         "288.576488029912"
        ],
        [
         "46",
         "ALTO DEL ARENAL",
         "BUENOS AIRES",
         "291.513969910961",
         "222.57796596580692",
         "115.18103469329502"
        ],
        [
         "47",
         "ALTO DEL ARENAL",
         "MIGUEL HERNANDEZ",
         "204.1933962264151",
         "222.57796596580692",
         "111.45220727071606"
        ],
        [
         "48",
         "ALTO DEL ARENAL",
         "PAVONES",
         "443.9471007121058",
         "222.57796596580692",
         "55.1864688257274"
        ],
        [
         "49",
         "ALTO DEL ARENAL",
         "PORTAZGO",
         "1348.2337917485265",
         "222.57796596580692",
         "138.1100793054403"
        ]
       ],
       "shape": {
        "columns": 5,
        "rows": 453
       }
      },
      "text/html": [
       "<div>\n",
       "<style scoped>\n",
       "    .dataframe tbody tr th:only-of-type {\n",
       "        vertical-align: middle;\n",
       "    }\n",
       "\n",
       "    .dataframe tbody tr th {\n",
       "        vertical-align: top;\n",
       "    }\n",
       "\n",
       "    .dataframe thead th {\n",
       "        text-align: right;\n",
       "    }\n",
       "</style>\n",
       "<table border=\"1\" class=\"dataframe\">\n",
       "  <thead>\n",
       "    <tr style=\"text-align: right;\">\n",
       "      <th></th>\n",
       "      <th>stop1</th>\n",
       "      <th>stop2</th>\n",
       "      <th>mean_time_diff</th>\n",
       "      <th>distance_to_stop1</th>\n",
       "      <th>distance_to_stop2</th>\n",
       "    </tr>\n",
       "  </thead>\n",
       "  <tbody>\n",
       "    <tr>\n",
       "      <th>0</th>\n",
       "      <td>ABRANTES</td>\n",
       "      <td>OPAÑEL</td>\n",
       "      <td>202.478222</td>\n",
       "      <td>203.298067</td>\n",
       "      <td>167.328552</td>\n",
       "    </tr>\n",
       "    <tr>\n",
       "      <th>1</th>\n",
       "      <td>ABRANTES</td>\n",
       "      <td>OPORTO</td>\n",
       "      <td>255.245627</td>\n",
       "      <td>203.298067</td>\n",
       "      <td>150.817027</td>\n",
       "    </tr>\n",
       "    <tr>\n",
       "      <th>2</th>\n",
       "      <td>ABRANTES</td>\n",
       "      <td>PAN BENDITO</td>\n",
       "      <td>265.185544</td>\n",
       "      <td>203.298067</td>\n",
       "      <td>195.807705</td>\n",
       "    </tr>\n",
       "    <tr>\n",
       "      <th>3</th>\n",
       "      <td>ABRANTES</td>\n",
       "      <td>PLAZA ELIPTICA</td>\n",
       "      <td>174.341942</td>\n",
       "      <td>203.298067</td>\n",
       "      <td>79.868626</td>\n",
       "    </tr>\n",
       "    <tr>\n",
       "      <th>4</th>\n",
       "      <td>ACACIAS</td>\n",
       "      <td>EMBAJADORES</td>\n",
       "      <td>135.137704</td>\n",
       "      <td>143.034706</td>\n",
       "      <td>80.361297</td>\n",
       "    </tr>\n",
       "    <tr>\n",
       "      <th>...</th>\n",
       "      <td>...</td>\n",
       "      <td>...</td>\n",
       "      <td>...</td>\n",
       "      <td>...</td>\n",
       "      <td>...</td>\n",
       "    </tr>\n",
       "    <tr>\n",
       "      <th>448</th>\n",
       "      <td>SUANZES</td>\n",
       "      <td>TORRE ARIAS</td>\n",
       "      <td>222.255110</td>\n",
       "      <td>152.384984</td>\n",
       "      <td>166.798126</td>\n",
       "    </tr>\n",
       "    <tr>\n",
       "      <th>449</th>\n",
       "      <td>TETUAN</td>\n",
       "      <td>VALDEACEDERAS</td>\n",
       "      <td>90.729646</td>\n",
       "      <td>194.284335</td>\n",
       "      <td>165.356707</td>\n",
       "    </tr>\n",
       "    <tr>\n",
       "      <th>450</th>\n",
       "      <td>VALDEACEDERAS</td>\n",
       "      <td>VENTILLA</td>\n",
       "      <td>138.577735</td>\n",
       "      <td>165.356707</td>\n",
       "      <td>186.202435</td>\n",
       "    </tr>\n",
       "    <tr>\n",
       "      <th>451</th>\n",
       "      <td>VALDEBERNARDO</td>\n",
       "      <td>VICALVARO</td>\n",
       "      <td>411.319328</td>\n",
       "      <td>122.884972</td>\n",
       "      <td>86.593873</td>\n",
       "    </tr>\n",
       "    <tr>\n",
       "      <th>452</th>\n",
       "      <td>VILLAVERDE ALTO</td>\n",
       "      <td>VILLAVERDE BAJO CRUCE</td>\n",
       "      <td>795.718750</td>\n",
       "      <td>86.253653</td>\n",
       "      <td>135.463482</td>\n",
       "    </tr>\n",
       "  </tbody>\n",
       "</table>\n",
       "<p>453 rows × 5 columns</p>\n",
       "</div>"
      ],
      "text/plain": [
       "               stop1                  stop2  mean_time_diff  \\\n",
       "0           ABRANTES                 OPAÑEL      202.478222   \n",
       "1           ABRANTES                 OPORTO      255.245627   \n",
       "2           ABRANTES            PAN BENDITO      265.185544   \n",
       "3           ABRANTES         PLAZA ELIPTICA      174.341942   \n",
       "4            ACACIAS            EMBAJADORES      135.137704   \n",
       "..               ...                    ...             ...   \n",
       "448          SUANZES            TORRE ARIAS      222.255110   \n",
       "449           TETUAN          VALDEACEDERAS       90.729646   \n",
       "450    VALDEACEDERAS               VENTILLA      138.577735   \n",
       "451    VALDEBERNARDO              VICALVARO      411.319328   \n",
       "452  VILLAVERDE ALTO  VILLAVERDE BAJO CRUCE      795.718750   \n",
       "\n",
       "     distance_to_stop1  distance_to_stop2  \n",
       "0           203.298067         167.328552  \n",
       "1           203.298067         150.817027  \n",
       "2           203.298067         195.807705  \n",
       "3           203.298067          79.868626  \n",
       "4           143.034706          80.361297  \n",
       "..                 ...                ...  \n",
       "448         152.384984         166.798126  \n",
       "449         194.284335         165.356707  \n",
       "450         165.356707         186.202435  \n",
       "451         122.884972          86.593873  \n",
       "452          86.253653         135.463482  \n",
       "\n",
       "[453 rows x 5 columns]"
      ]
     },
     "execution_count": 201,
     "metadata": {},
     "output_type": "execute_result"
    }
   ],
   "source": [
    "embedded_grouped_urban_edges"
   ]
  },
  {
   "cell_type": "code",
   "execution_count": 202,
   "metadata": {},
   "outputs": [
    {
     "data": {
      "application/vnd.microsoft.datawrangler.viewer.v0+json": {
       "columns": [
        {
         "name": "index",
         "rawType": "int64",
         "type": "integer"
        },
        {
         "name": "stop1",
         "rawType": "object",
         "type": "string"
        },
        {
         "name": "stop2",
         "rawType": "object",
         "type": "string"
        },
        {
         "name": "mean_time_diff",
         "rawType": "float64",
         "type": "float"
        },
        {
         "name": "distance_to_stop1",
         "rawType": "float64",
         "type": "float"
        },
        {
         "name": "distance_to_stop2",
         "rawType": "float64",
         "type": "float"
        }
       ],
       "conversionMethod": "pd.DataFrame",
       "ref": "4cd48bb5-0031-43b2-9b57-7223fff9475e",
       "rows": [
        [
         "0",
         "ABRANTES",
         "OPAÑEL",
         "93.58894645941278",
         "25.784814857235894",
         "172.61547808348078"
        ],
        [
         "1",
         "ABRANTES",
         "PAN BENDITO",
         "117.43868739205527",
         "25.784814857235894",
         "129.37541360168564"
        ],
        [
         "2",
         "AEROPUERTO T-4",
         "BARAJAS",
         "135.23214285714286",
         "38.17107787407627",
         "63.967318189792344"
        ],
        [
         "3",
         "AEROPUERTO T-4",
         "FERIA DE MADRID",
         "644.4",
         "38.17107787407627",
         "46.68077438496239"
        ],
        [
         "4",
         "AEROPUERTO T-4",
         "MANUEL DE FALLA",
         "1192.327868852459",
         "38.17107787407627",
         "221.39519432926232"
        ],
        [
         "5",
         "AEROPUERTO T-4",
         "MARQUES DE LA VALDAVIA",
         "446.3057851239669",
         "38.17107787407627",
         "177.88726088549524"
        ],
        [
         "6",
         "AEROPUERTO T1-T2-T3",
         "COSLADA CENTRAL",
         "1209.7",
         "159.14629817025715",
         "294.9193598028005"
        ],
        [
         "7",
         "ALAMEDA DE OSUNA",
         "BARAJAS",
         "240.0802792321117",
         "543.5894854563243",
         "63.967318189792344"
        ],
        [
         "8",
         "ALAMEDA DE OSUNA",
         "CANILLEJAS",
         "289.99650959860384",
         "543.5894854563243",
         "104.79476203743042"
        ],
        [
         "9",
         "ALCORCON CENTRAL",
         "CUATRO VIENTOS",
         "950.685628742515",
         "105.96127523948728",
         "197.74871804844003"
        ],
        [
         "10",
         "ALCORCON CENTRAL",
         "MOSTOLES CENTRAL",
         "1079.1418439716313",
         "105.96127523948728",
         "282.24936324395236"
        ],
        [
         "11",
         "ALCORCON CENTRAL",
         "PARQUE LISBOA",
         "255.18431689571545",
         "105.96127523948728",
         "302.8496003537605"
        ],
        [
         "12",
         "ALCORCON CENTRAL",
         "PARQUE OESTE",
         "397.51063829787233",
         "105.96127523948728",
         "156.1853581914754"
        ],
        [
         "13",
         "ALCORCON CENTRAL",
         "PRADILLO",
         "1482.4888888888888",
         "105.96127523948728",
         "352.5547107985102"
        ],
        [
         "14",
         "ALMENDRALES",
         "HOSPITAL 12 DE OCTUBRE",
         "194.75862068965517",
         "367.6650878926885",
         "188.45605147169093"
        ],
        [
         "15",
         "ALMENDRALES",
         "LEGAZPI",
         "118.10794602698651",
         "367.6650878926885",
         "51.23338147897988"
        ],
        [
         "16",
         "ALONSO DE MENDOZA",
         "CONSERVATORIO",
         "369.16953125",
         "111.38893012680663",
         "428.9037508664229"
        ],
        [
         "17",
         "ALONSO DE MENDOZA",
         "GETAFE CENTRAL",
         "403.12891986062715",
         "111.38893012680663",
         "236.21395288822464"
        ],
        [
         "18",
         "ALONSO DE MENDOZA",
         "JUAN DE LA CIERVA",
         "666.3862275449102",
         "111.38893012680663",
         "274.0765958937824"
        ],
        [
         "19",
         "ALSACIA",
         "AVENIDA DE GUADALAJARA",
         "287.6061320754717",
         "85.35729246334888",
         "145.6434222090503"
        ],
        [
         "20",
         "ALSACIA",
         "SIMANCAS",
         "132.11764705882354",
         "85.35729246334888",
         "472.2955013573236"
        ],
        [
         "21",
         "ALSACIA",
         "VICALVARO",
         "482.11764705882354",
         "85.35729246334888",
         "34.78946949666869"
        ],
        [
         "22",
         "ALUCHE",
         "CARABANCHEL ALTO",
         "262.264895908112",
         "107.70204986772448",
         "108.20908591667033"
        ],
        [
         "23",
         "ALUCHE",
         "EMPALME",
         "147.66682134570766",
         "107.70204986772448",
         "226.5735864423834"
        ],
        [
         "24",
         "ALUCHE",
         "LA FORTUNA",
         "613.9061371841156",
         "107.70204986772448",
         "127.4087934982138"
        ],
        [
         "25",
         "ARGANDA DEL REY",
         "LA POVEDA",
         "86.83257918552036",
         "185.93659563593255",
         "188.753561033026"
        ],
        [
         "26",
         "ARGANDA DEL REY",
         "PAVONES",
         "1181.8947368421052",
         "185.93659563593255",
         "125.27359592813573"
        ],
        [
         "27",
         "ARGANDA DEL REY",
         "RIVAS VACIAMADRID",
         "560.25",
         "185.93659563593255",
         "128.31566232447955"
        ],
        [
         "28",
         "ARROYO CULEBRO",
         "CONSERVATORIO",
         "541.6810344827586",
         "99.64080153723386",
         "428.9037508664229"
        ],
        [
         "29",
         "ATOCHA",
         "PLAZA ELIPTICA",
         "238.56716417910448",
         "137.97973366249443",
         "28.52057806936692"
        ],
        [
         "30",
         "AVENIDA DE AMERICA",
         "CANILLEJAS",
         "642.4235897435898",
         "44.32725499159896",
         "104.79476203743042"
        ],
        [
         "31",
         "AVENIDA DE AMERICA",
         "CARTAGENA",
         "63.61830357142857",
         "44.32725499159896",
         "200.0464470438558"
        ],
        [
         "32",
         "AVENIDA DE AMERICA",
         "PARQUE DE LAS AVENIDAS",
         "109.75",
         "44.32725499159896",
         "460.57800867196"
        ],
        [
         "33",
         "AVENIDA DE GUADALAJARA",
         "VICALVARO",
         "505.8679245283019",
         "145.6434222090503",
         "34.78946949666869"
        ],
        [
         "34",
         "AVENIDA DE LA ILUSTRACION",
         "HERRERA ORIA",
         "191.43333333333334",
         "200.98777130175372",
         "46.30513809218425"
        ],
        [
         "35",
         "AVIACION ESPAÑOLA",
         "CAMPAMENTO",
         "314.0769230769231",
         "198.62773868225628",
         "79.3619911760141"
        ],
        [
         "36",
         "AVIACION ESPAÑOLA",
         "COLONIA JARDIN",
         "260.53846153846155",
         "198.62773868225628",
         "27.44624815815772"
        ],
        [
         "37",
         "AVIACION ESPAÑOLA",
         "CUATRO VIENTOS",
         "161.82692307692307",
         "198.62773868225628",
         "197.74871804844003"
        ],
        [
         "38",
         "BAMBU",
         "CHAMARTIN",
         "94.83505154639175",
         "200.0777492814203",
         "106.90612141822336"
        ],
        [
         "39",
         "BAMBU",
         "MARQUES DE LA VALDAVIA",
         "1272.5729166666667",
         "200.0777492814203",
         "177.88726088549524"
        ],
        [
         "40",
         "BAMBU",
         "PINAR DE CHAMARTIN",
         "200.53947368421052",
         "200.0777492814203",
         "34.560016418874405"
        ],
        [
         "41",
         "BARAJAS",
         "CANILLEJAS",
         "0.0",
         "63.967318189792344",
         "104.79476203743042"
        ],
        [
         "42",
         "BARRIO DEL PUERTO",
         "COSLADA CENTRAL",
         "208.9954128440367",
         "270.05357303677954",
         "294.9193598028005"
        ],
        [
         "43",
         "BARRIO DEL PUERTO",
         "ESTADIO METROPOLITANO",
         "800.023598820059",
         "270.05357303677954",
         "191.40052226852862"
        ],
        [
         "44",
         "BARRIO DEL PUERTO",
         "PUERTA DE ARGANDA",
         "957.3842794759826",
         "270.05357303677954",
         "116.65339382449618"
        ],
        [
         "45",
         "BAUNATAL",
         "BEGOÑA",
         "1291.0",
         "93.79692418385814",
         "86.06019854209221"
        ],
        [
         "46",
         "BAUNATAL",
         "HOSPITAL INFANTA SOFIA",
         "957.8181818181819",
         "93.79692418385814",
         "82.76803636787201"
        ],
        [
         "47",
         "BAUNATAL",
         "LA MORALEJA",
         "449.4375",
         "93.79692418385814",
         "259.1234460875922"
        ],
        [
         "48",
         "BAUNATAL",
         "MANUEL DE FALLA",
         "239.86470588235295",
         "93.79692418385814",
         "221.39519432926232"
        ],
        [
         "49",
         "BAUNATAL",
         "MARQUES DE LA VALDAVIA",
         "421.0411522633745",
         "93.79692418385814",
         "177.88726088549524"
        ]
       ],
       "shape": {
        "columns": 5,
        "rows": 208
       }
      },
      "text/html": [
       "<div>\n",
       "<style scoped>\n",
       "    .dataframe tbody tr th:only-of-type {\n",
       "        vertical-align: middle;\n",
       "    }\n",
       "\n",
       "    .dataframe tbody tr th {\n",
       "        vertical-align: top;\n",
       "    }\n",
       "\n",
       "    .dataframe thead th {\n",
       "        text-align: right;\n",
       "    }\n",
       "</style>\n",
       "<table border=\"1\" class=\"dataframe\">\n",
       "  <thead>\n",
       "    <tr style=\"text-align: right;\">\n",
       "      <th></th>\n",
       "      <th>stop1</th>\n",
       "      <th>stop2</th>\n",
       "      <th>mean_time_diff</th>\n",
       "      <th>distance_to_stop1</th>\n",
       "      <th>distance_to_stop2</th>\n",
       "    </tr>\n",
       "  </thead>\n",
       "  <tbody>\n",
       "    <tr>\n",
       "      <th>0</th>\n",
       "      <td>ABRANTES</td>\n",
       "      <td>OPAÑEL</td>\n",
       "      <td>93.588946</td>\n",
       "      <td>25.784815</td>\n",
       "      <td>172.615478</td>\n",
       "    </tr>\n",
       "    <tr>\n",
       "      <th>1</th>\n",
       "      <td>ABRANTES</td>\n",
       "      <td>PAN BENDITO</td>\n",
       "      <td>117.438687</td>\n",
       "      <td>25.784815</td>\n",
       "      <td>129.375414</td>\n",
       "    </tr>\n",
       "    <tr>\n",
       "      <th>2</th>\n",
       "      <td>AEROPUERTO T-4</td>\n",
       "      <td>BARAJAS</td>\n",
       "      <td>135.232143</td>\n",
       "      <td>38.171078</td>\n",
       "      <td>63.967318</td>\n",
       "    </tr>\n",
       "    <tr>\n",
       "      <th>3</th>\n",
       "      <td>AEROPUERTO T-4</td>\n",
       "      <td>FERIA DE MADRID</td>\n",
       "      <td>644.400000</td>\n",
       "      <td>38.171078</td>\n",
       "      <td>46.680774</td>\n",
       "    </tr>\n",
       "    <tr>\n",
       "      <th>4</th>\n",
       "      <td>AEROPUERTO T-4</td>\n",
       "      <td>MANUEL DE FALLA</td>\n",
       "      <td>1192.327869</td>\n",
       "      <td>38.171078</td>\n",
       "      <td>221.395194</td>\n",
       "    </tr>\n",
       "    <tr>\n",
       "      <th>...</th>\n",
       "      <td>...</td>\n",
       "      <td>...</td>\n",
       "      <td>...</td>\n",
       "      <td>...</td>\n",
       "      <td>...</td>\n",
       "    </tr>\n",
       "    <tr>\n",
       "      <th>203</th>\n",
       "      <td>RIVAS FUTURA</td>\n",
       "      <td>RIVAS URBANIZACIONES</td>\n",
       "      <td>1349.491525</td>\n",
       "      <td>66.061778</td>\n",
       "      <td>63.907690</td>\n",
       "    </tr>\n",
       "    <tr>\n",
       "      <th>204</th>\n",
       "      <td>RIVAS FUTURA</td>\n",
       "      <td>RIVAS VACIAMADRID</td>\n",
       "      <td>960.000000</td>\n",
       "      <td>66.061778</td>\n",
       "      <td>128.315662</td>\n",
       "    </tr>\n",
       "    <tr>\n",
       "      <th>205</th>\n",
       "      <td>SAN CIPRIANO</td>\n",
       "      <td>VICALVARO</td>\n",
       "      <td>71.301310</td>\n",
       "      <td>182.588949</td>\n",
       "      <td>34.789469</td>\n",
       "    </tr>\n",
       "    <tr>\n",
       "      <th>206</th>\n",
       "      <td>SAN CRISTOBAL</td>\n",
       "      <td>VILLAVERDE BAJO CRUCE</td>\n",
       "      <td>193.866337</td>\n",
       "      <td>46.927869</td>\n",
       "      <td>95.384148</td>\n",
       "    </tr>\n",
       "    <tr>\n",
       "      <th>207</th>\n",
       "      <td>VILLAVERDE ALTO</td>\n",
       "      <td>VILLAVERDE BAJO CRUCE</td>\n",
       "      <td>702.893782</td>\n",
       "      <td>216.018159</td>\n",
       "      <td>95.384148</td>\n",
       "    </tr>\n",
       "  </tbody>\n",
       "</table>\n",
       "<p>208 rows × 5 columns</p>\n",
       "</div>"
      ],
      "text/plain": [
       "               stop1                  stop2  mean_time_diff  \\\n",
       "0           ABRANTES                 OPAÑEL       93.588946   \n",
       "1           ABRANTES            PAN BENDITO      117.438687   \n",
       "2     AEROPUERTO T-4                BARAJAS      135.232143   \n",
       "3     AEROPUERTO T-4        FERIA DE MADRID      644.400000   \n",
       "4     AEROPUERTO T-4        MANUEL DE FALLA     1192.327869   \n",
       "..               ...                    ...             ...   \n",
       "203     RIVAS FUTURA   RIVAS URBANIZACIONES     1349.491525   \n",
       "204     RIVAS FUTURA      RIVAS VACIAMADRID      960.000000   \n",
       "205     SAN CIPRIANO              VICALVARO       71.301310   \n",
       "206    SAN CRISTOBAL  VILLAVERDE BAJO CRUCE      193.866337   \n",
       "207  VILLAVERDE ALTO  VILLAVERDE BAJO CRUCE      702.893782   \n",
       "\n",
       "     distance_to_stop1  distance_to_stop2  \n",
       "0            25.784815         172.615478  \n",
       "1            25.784815         129.375414  \n",
       "2            38.171078          63.967318  \n",
       "3            38.171078          46.680774  \n",
       "4            38.171078         221.395194  \n",
       "..                 ...                ...  \n",
       "203          66.061778          63.907690  \n",
       "204          66.061778         128.315662  \n",
       "205         182.588949          34.789469  \n",
       "206          46.927869          95.384148  \n",
       "207         216.018159          95.384148  \n",
       "\n",
       "[208 rows x 5 columns]"
      ]
     },
     "execution_count": 202,
     "metadata": {},
     "output_type": "execute_result"
    }
   ],
   "source": [
    "embedded_grouped_inter_edges"
   ]
  },
  {
   "cell_type": "code",
   "execution_count": 205,
   "metadata": {},
   "outputs": [
    {
     "data": {
      "application/vnd.microsoft.datawrangler.viewer.v0+json": {
       "columns": [
        {
         "name": "index",
         "rawType": "int64",
         "type": "integer"
        },
        {
         "name": "stop1",
         "rawType": "object",
         "type": "string"
        },
        {
         "name": "stop2",
         "rawType": "object",
         "type": "string"
        },
        {
         "name": "mean_time_diff",
         "rawType": "float64",
         "type": "float"
        }
       ],
       "conversionMethod": "pd.DataFrame",
       "ref": "b5c1d64c-6314-4786-8318-1f9dc4d34682",
       "rows": [
        [
         "0",
         "ABRANTES",
         "PAN BENDITO",
         "106.5"
        ],
        [
         "1",
         "ABRANTES",
         "PLAZA ELIPTICA",
         "123.5"
        ],
        [
         "2",
         "ACACIAS",
         "PIRAMIDES",
         "83.0"
        ],
        [
         "3",
         "ACACIAS",
         "PUERTA DE TOLEDO",
         "138.0"
        ],
        [
         "4",
         "AEROPUERTO T-4",
         "BARAJAS",
         "175.0"
        ],
        [
         "5",
         "AEROPUERTO T1-T2-T3",
         "BARAJAS",
         "118.0"
        ],
        [
         "6",
         "AEROPUERTO T1-T2-T3",
         "FERIA DE MADRID",
         "339.0"
        ],
        [
         "7",
         "ALAMEDA DE OSUNA",
         "EL CAPRICHO",
         "114.0"
        ],
        [
         "8",
         "ALCORCON CENTRAL",
         "PARQUE LISBOA",
         "108.0"
        ],
        [
         "9",
         "ALCORCON CENTRAL",
         "PARQUE OESTE",
         "144.0"
        ],
        [
         "10",
         "ALFONSO XIII",
         "AVENIDA DE LA PAZ",
         "101.5"
        ],
        [
         "11",
         "ALFONSO XIII",
         "PROSPERIDAD",
         "137.0"
        ],
        [
         "12",
         "ALMENDRALES",
         "HOSPITAL 12 DE OCTUBRE",
         "150.5"
        ],
        [
         "13",
         "ALMENDRALES",
         "LEGAZPI",
         "146.5"
        ],
        [
         "14",
         "ALONSO CANO",
         "CANAL",
         "61.5"
        ],
        [
         "15",
         "ALONSO CANO",
         "GREGORIO MARAÑON",
         "81.0"
        ],
        [
         "16",
         "ALONSO DE MENDOZA",
         "CONSERVATORIO",
         "108.0"
        ],
        [
         "17",
         "ALONSO DE MENDOZA",
         "GETAFE CENTRAL",
         "117.0"
        ],
        [
         "18",
         "ALONSO MARTINEZ",
         "BILBAO",
         "69.5"
        ],
        [
         "19",
         "ALONSO MARTINEZ",
         "CHUECA",
         "107.0"
        ],
        [
         "20",
         "ALONSO MARTINEZ",
         "COLON",
         "60.5"
        ],
        [
         "21",
         "ALONSO MARTINEZ",
         "GREGORIO MARAÑON",
         "134.0"
        ],
        [
         "22",
         "ALONSO MARTINEZ",
         "RUBEN DARIO",
         "109.0"
        ],
        [
         "23",
         "ALONSO MARTINEZ",
         "TRIBUNAL",
         "66.0"
        ],
        [
         "24",
         "ALSACIA",
         "AVENIDA DE GUADALAJARA",
         "162.0"
        ],
        [
         "25",
         "ALSACIA",
         "LA ALMUDENA",
         "212.5"
        ],
        [
         "26",
         "ALTO DE EXTREMADURA",
         "LUCERO",
         "131.5"
        ],
        [
         "27",
         "ALTO DE EXTREMADURA",
         "PUERTA DEL ANGEL",
         "144.0"
        ],
        [
         "28",
         "ALTO DEL ARENAL",
         "BUENOS AIRES",
         "103.0"
        ],
        [
         "29",
         "ALTO DEL ARENAL",
         "MIGUEL HERNANDEZ",
         "99.5"
        ],
        [
         "30",
         "ALUCHE",
         "EMPALME",
         "104.0"
        ],
        [
         "31",
         "ALUCHE",
         "EUGENIA DE MONTIJO",
         "143.0"
        ],
        [
         "32",
         "ALVARADO",
         "CUATRO CAMINOS",
         "68.5"
        ],
        [
         "33",
         "ALVARADO",
         "ESTRECHO",
         "84.5"
        ],
        [
         "34",
         "ANTON MARTIN",
         "ESTACION DEL ARTE",
         "107.0"
        ],
        [
         "35",
         "ANTON MARTIN",
         "TIRSO DE MOLINA",
         "76.5"
        ],
        [
         "36",
         "ANTONIO MACHADO",
         "PEÑAGRANDE",
         "85.5"
        ],
        [
         "37",
         "ANTONIO MACHADO",
         "VALDEZARZA",
         "114.5"
        ],
        [
         "38",
         "ARGANDA DEL REY",
         "LA POVEDA",
         "245.5"
        ],
        [
         "39",
         "ARGANZUELA-PLANETARIO",
         "LEGAZPI",
         "93.5"
        ],
        [
         "40",
         "ARGANZUELA-PLANETARIO",
         "MENDEZ ALVARO",
         "111.0"
        ],
        [
         "41",
         "ARGÜELLES",
         "MONCLOA",
         "67.0"
        ],
        [
         "42",
         "ARGÜELLES",
         "PRINCIPE PIO",
         "190.5"
        ],
        [
         "43",
         "ARGÜELLES",
         "SAN BERNARDO",
         "130.0"
        ],
        [
         "44",
         "ARGÜELLES",
         "VENTURA RODRIGUEZ",
         "68.5"
        ],
        [
         "45",
         "ARROYO CULEBRO",
         "CONSERVATORIO",
         "89.0"
        ],
        [
         "46",
         "ARROYO CULEBRO",
         "PARQUE DE LOS ESTADOS",
         "242.5"
        ],
        [
         "47",
         "ARROYOFRESNO",
         "LACOMA",
         "91.0"
        ],
        [
         "48",
         "ARROYOFRESNO",
         "PITIS",
         "73.0"
        ],
        [
         "49",
         "ARTILLEROS",
         "PAVONES",
         "126.0"
        ]
       ],
       "shape": {
        "columns": 3,
        "rows": 276
       }
      },
      "text/html": [
       "<div>\n",
       "<style scoped>\n",
       "    .dataframe tbody tr th:only-of-type {\n",
       "        vertical-align: middle;\n",
       "    }\n",
       "\n",
       "    .dataframe tbody tr th {\n",
       "        vertical-align: top;\n",
       "    }\n",
       "\n",
       "    .dataframe thead th {\n",
       "        text-align: right;\n",
       "    }\n",
       "</style>\n",
       "<table border=\"1\" class=\"dataframe\">\n",
       "  <thead>\n",
       "    <tr style=\"text-align: right;\">\n",
       "      <th></th>\n",
       "      <th>stop1</th>\n",
       "      <th>stop2</th>\n",
       "      <th>mean_time_diff</th>\n",
       "    </tr>\n",
       "  </thead>\n",
       "  <tbody>\n",
       "    <tr>\n",
       "      <th>0</th>\n",
       "      <td>ABRANTES</td>\n",
       "      <td>PAN BENDITO</td>\n",
       "      <td>106.5</td>\n",
       "    </tr>\n",
       "    <tr>\n",
       "      <th>1</th>\n",
       "      <td>ABRANTES</td>\n",
       "      <td>PLAZA ELIPTICA</td>\n",
       "      <td>123.5</td>\n",
       "    </tr>\n",
       "    <tr>\n",
       "      <th>2</th>\n",
       "      <td>ACACIAS</td>\n",
       "      <td>PIRAMIDES</td>\n",
       "      <td>83.0</td>\n",
       "    </tr>\n",
       "    <tr>\n",
       "      <th>3</th>\n",
       "      <td>ACACIAS</td>\n",
       "      <td>PUERTA DE TOLEDO</td>\n",
       "      <td>138.0</td>\n",
       "    </tr>\n",
       "    <tr>\n",
       "      <th>4</th>\n",
       "      <td>AEROPUERTO T-4</td>\n",
       "      <td>BARAJAS</td>\n",
       "      <td>175.0</td>\n",
       "    </tr>\n",
       "    <tr>\n",
       "      <th>...</th>\n",
       "      <td>...</td>\n",
       "      <td>...</td>\n",
       "      <td>...</td>\n",
       "    </tr>\n",
       "    <tr>\n",
       "      <th>271</th>\n",
       "      <td>SIERRA DE GUADALUPE</td>\n",
       "      <td>VILLA DE VALLECAS</td>\n",
       "      <td>79.5</td>\n",
       "    </tr>\n",
       "    <tr>\n",
       "      <th>272</th>\n",
       "      <td>SOL</td>\n",
       "      <td>TIRSO DE MOLINA</td>\n",
       "      <td>106.5</td>\n",
       "    </tr>\n",
       "    <tr>\n",
       "      <th>273</th>\n",
       "      <td>SUANZES</td>\n",
       "      <td>TORRE ARIAS</td>\n",
       "      <td>119.0</td>\n",
       "    </tr>\n",
       "    <tr>\n",
       "      <th>274</th>\n",
       "      <td>TETUAN</td>\n",
       "      <td>VALDEACEDERAS</td>\n",
       "      <td>87.5</td>\n",
       "    </tr>\n",
       "    <tr>\n",
       "      <th>275</th>\n",
       "      <td>VALDEBERNARDO</td>\n",
       "      <td>VICALVARO</td>\n",
       "      <td>187.0</td>\n",
       "    </tr>\n",
       "  </tbody>\n",
       "</table>\n",
       "<p>276 rows × 3 columns</p>\n",
       "</div>"
      ],
      "text/plain": [
       "                   stop1              stop2  mean_time_diff\n",
       "0               ABRANTES        PAN BENDITO           106.5\n",
       "1               ABRANTES     PLAZA ELIPTICA           123.5\n",
       "2                ACACIAS          PIRAMIDES            83.0\n",
       "3                ACACIAS   PUERTA DE TOLEDO           138.0\n",
       "4         AEROPUERTO T-4            BARAJAS           175.0\n",
       "..                   ...                ...             ...\n",
       "271  SIERRA DE GUADALUPE  VILLA DE VALLECAS            79.5\n",
       "272                  SOL    TIRSO DE MOLINA           106.5\n",
       "273              SUANZES        TORRE ARIAS           119.0\n",
       "274               TETUAN      VALDEACEDERAS            87.5\n",
       "275        VALDEBERNARDO          VICALVARO           187.0\n",
       "\n",
       "[276 rows x 3 columns]"
      ]
     },
     "execution_count": 205,
     "metadata": {},
     "output_type": "execute_result"
    }
   ],
   "source": [
    "metro_stats = pd.read_csv(BASE_URI_METRO + \"_stats_edges.csv\")\n",
    "metro_stats "
   ]
  },
  {
   "cell_type": "code",
   "execution_count": 214,
   "metadata": {},
   "outputs": [],
   "source": [
    "inter_nodes_close_to_metro\n",
    "interlayer_metro_interurban = inter_nodes_close_to_metro[['stop_id','closest_metro_stop','distance_to_metro']].copy()\n",
    "interlayer_metro_interurban = interlayer_metro_interurban.groupby(['closest_metro_stop']).agg({\n",
    "    'distance_to_metro': 'mean',\n",
    "}).reset_index()\n",
    "interlayer_metro_interurban = interlayer_metro_interurban.rename(columns={'closest_metro_stop': 'stop_id'})\n",
    "\n",
    "interlayer_metro_urban = urban_nodes_close_to_metro[['stop_id','closest_metro_stop','distance_to_metro']].copy()\n",
    "interlayer_metro_urban = interlayer_metro_urban.groupby(['closest_metro_stop']).agg({\n",
    "    'distance_to_metro': 'mean',\n",
    "}).reset_index()\n",
    "interlayer_metro_urban = interlayer_metro_urban.rename(columns={'closest_metro_stop': 'stop_id'})\n"
   ]
  },
  {
   "cell_type": "code",
   "execution_count": null,
   "metadata": {},
   "outputs": [],
   "source": [
    "FINAL_DATA = 'Final_data/'\n",
    "\n",
    "metro_stats.to_csv(FINAL_DATA + \"metro_final_edges.csv\", index=False)\n",
    "embedded_grouped_urban_edges[['stop1','stop2','mean_time_diff']].to_csv(FINAL_DATA + \"urban_final_edges.csv\", index=False)\n",
    "embedded_grouped_inter_edges[['stop1','stop2','mean_time_diff']].to_csv(FINAL_DATA + \"inter_final_edges.csv\", index=False)\n",
    "\n",
    "interlayer_metro_interurban.to_csv(FINAL_DATA + \"interlayer_metro_interurban.csv\", index=False)\n",
    "interlayer_metro_urban.to_csv(FINAL_DATA + \"interlayer_metro_urban.csv\", index=False)\n"
   ]
  },
  {
   "cell_type": "code",
   "execution_count": 216,
   "metadata": {},
   "outputs": [
    {
     "data": {
      "application/vnd.microsoft.datawrangler.viewer.v0+json": {
       "columns": [
        {
         "name": "index",
         "rawType": "int64",
         "type": "integer"
        },
        {
         "name": "stop_id",
         "rawType": "object",
         "type": "string"
        },
        {
         "name": "distance_to_metro",
         "rawType": "float64",
         "type": "float"
        }
       ],
       "conversionMethod": "pd.DataFrame",
       "ref": "7214384f-8be2-4e43-9e42-7e0aa065784b",
       "rows": [
        [
         "0",
         "ABRANTES",
         "188.10582869868495"
        ],
        [
         "1",
         "AEROPUERTO T-4",
         "38.17107787407627"
        ],
        [
         "2",
         "AEROPUERTO T1-T2-T3",
         "162.42580544699368"
        ],
        [
         "3",
         "ALAMEDA DE OSUNA",
         "563.6037454762616"
        ],
        [
         "4",
         "ALCORCON CENTRAL",
         "264.8420289227466"
        ],
        [
         "5",
         "ALMENDRALES",
         "367.6721139209398"
        ],
        [
         "6",
         "ALONSO DE MENDOZA",
         "258.68684478990116"
        ],
        [
         "7",
         "ALSACIA",
         "161.61194254853737"
        ],
        [
         "8",
         "ALUCHE",
         "270.80113612841365"
        ],
        [
         "9",
         "ARGANDA DEL REY",
         "417.6869805926617"
        ],
        [
         "10",
         "ARROYO CULEBRO",
         "329.05070935051054"
        ],
        [
         "11",
         "ATOCHA",
         "111.46452823621883"
        ],
        [
         "12",
         "AVENIDA DE AMERICA",
         "43.82043858770052"
        ],
        [
         "13",
         "AVENIDA DE GUADALAJARA",
         "281.1178151923774"
        ],
        [
         "14",
         "AVENIDA DE LA ILUSTRACION",
         "305.1751544454126"
        ],
        [
         "15",
         "AVIACION ESPAÑOLA",
         "198.6277386822563"
        ],
        [
         "16",
         "BAMBU",
         "342.1582342987288"
        ],
        [
         "17",
         "BARAJAS",
         "191.06911884062615"
        ],
        [
         "18",
         "BARRIO DEL PUERTO",
         "341.0741596107745"
        ],
        [
         "19",
         "BATAN",
         "341.3558403015117"
        ],
        [
         "20",
         "BAUNATAL",
         "392.6864632677288"
        ],
        [
         "21",
         "BEGOÑA",
         "231.37583090810554"
        ],
        [
         "22",
         "CAMPAMENTO",
         "124.98052166539364"
        ],
        [
         "23",
         "CANILLEJAS",
         "198.02248768789147"
        ],
        [
         "24",
         "CARABANCHEL",
         "187.64003521150943"
        ],
        [
         "25",
         "CARABANCHEL ALTO",
         "305.22651092410706"
        ],
        [
         "26",
         "CARTAGENA",
         "200.0464470438558"
        ],
        [
         "27",
         "CASA DEL RELOJ",
         "315.0508848157501"
        ],
        [
         "28",
         "CHAMARTIN",
         "210.0131274241272"
        ],
        [
         "29",
         "CIUDAD DE LOS ANGELES",
         "213.54895473762403"
        ],
        [
         "30",
         "CIUDAD LINEAL",
         "161.67669086439267"
        ],
        [
         "31",
         "CIUDAD UNIVERSITARIA",
         "391.621541272374"
        ],
        [
         "32",
         "COLONIA JARDIN",
         "314.28393270143596"
        ],
        [
         "33",
         "CONDE DE CASAL",
         "179.18136158367736"
        ],
        [
         "34",
         "CONSERVATORIO",
         "433.4486717710595"
        ],
        [
         "35",
         "COSLADA CENTRAL",
         "373.15384157055723"
        ],
        [
         "36",
         "CUATRO VIENTOS",
         "208.11702677310572"
        ],
        [
         "37",
         "DELICIAS",
         "430.5937402374892"
        ],
        [
         "38",
         "EL BERCIAL",
         "305.63372391131054"
        ],
        [
         "39",
         "EL CAPRICHO",
         "414.6159138250174"
        ],
        [
         "40",
         "EL CARRASCAL",
         "330.4678572209578"
        ],
        [
         "41",
         "EL CASAR",
         "378.4275204526683"
        ],
        [
         "42",
         "EMPALME",
         "212.82992592473022"
        ],
        [
         "43",
         "ESTACION DEL ARTE",
         "217.42168882971492"
        ],
        [
         "44",
         "ESTADIO METROPOLITANO",
         "191.40052226852862"
        ],
        [
         "45",
         "EUGENIA DE MONTIJO",
         "355.3380956982201"
        ],
        [
         "46",
         "FERIA DE MADRID",
         "280.3971553213744"
        ],
        [
         "47",
         "FUENCARRAL",
         "436.0703578313178"
        ],
        [
         "48",
         "FUENLABRADA CENTRAL",
         "395.27992369217253"
        ],
        [
         "49",
         "GARCIA NOBLEJAS",
         "295.37351523775527"
        ]
       ],
       "shape": {
        "columns": 2,
        "rows": 118
       }
      },
      "text/html": [
       "<div>\n",
       "<style scoped>\n",
       "    .dataframe tbody tr th:only-of-type {\n",
       "        vertical-align: middle;\n",
       "    }\n",
       "\n",
       "    .dataframe tbody tr th {\n",
       "        vertical-align: top;\n",
       "    }\n",
       "\n",
       "    .dataframe thead th {\n",
       "        text-align: right;\n",
       "    }\n",
       "</style>\n",
       "<table border=\"1\" class=\"dataframe\">\n",
       "  <thead>\n",
       "    <tr style=\"text-align: right;\">\n",
       "      <th></th>\n",
       "      <th>stop_id</th>\n",
       "      <th>distance_to_metro</th>\n",
       "    </tr>\n",
       "  </thead>\n",
       "  <tbody>\n",
       "    <tr>\n",
       "      <th>0</th>\n",
       "      <td>ABRANTES</td>\n",
       "      <td>188.105829</td>\n",
       "    </tr>\n",
       "    <tr>\n",
       "      <th>1</th>\n",
       "      <td>AEROPUERTO T-4</td>\n",
       "      <td>38.171078</td>\n",
       "    </tr>\n",
       "    <tr>\n",
       "      <th>2</th>\n",
       "      <td>AEROPUERTO T1-T2-T3</td>\n",
       "      <td>162.425805</td>\n",
       "    </tr>\n",
       "    <tr>\n",
       "      <th>3</th>\n",
       "      <td>ALAMEDA DE OSUNA</td>\n",
       "      <td>563.603745</td>\n",
       "    </tr>\n",
       "    <tr>\n",
       "      <th>4</th>\n",
       "      <td>ALCORCON CENTRAL</td>\n",
       "      <td>264.842029</td>\n",
       "    </tr>\n",
       "    <tr>\n",
       "      <th>...</th>\n",
       "      <td>...</td>\n",
       "      <td>...</td>\n",
       "    </tr>\n",
       "    <tr>\n",
       "      <th>113</th>\n",
       "      <td>USERA</td>\n",
       "      <td>541.626399</td>\n",
       "    </tr>\n",
       "    <tr>\n",
       "      <th>114</th>\n",
       "      <td>VICALVARO</td>\n",
       "      <td>257.457025</td>\n",
       "    </tr>\n",
       "    <tr>\n",
       "      <th>115</th>\n",
       "      <td>VILLAVERDE ALTO</td>\n",
       "      <td>329.543990</td>\n",
       "    </tr>\n",
       "    <tr>\n",
       "      <th>116</th>\n",
       "      <td>VILLAVERDE BAJO CRUCE</td>\n",
       "      <td>262.712455</td>\n",
       "    </tr>\n",
       "    <tr>\n",
       "      <th>117</th>\n",
       "      <td>VISTA ALEGRE</td>\n",
       "      <td>166.676103</td>\n",
       "    </tr>\n",
       "  </tbody>\n",
       "</table>\n",
       "<p>118 rows × 2 columns</p>\n",
       "</div>"
      ],
      "text/plain": [
       "                   stop_id  distance_to_metro\n",
       "0                 ABRANTES         188.105829\n",
       "1           AEROPUERTO T-4          38.171078\n",
       "2      AEROPUERTO T1-T2-T3         162.425805\n",
       "3         ALAMEDA DE OSUNA         563.603745\n",
       "4         ALCORCON CENTRAL         264.842029\n",
       "..                     ...                ...\n",
       "113                  USERA         541.626399\n",
       "114              VICALVARO         257.457025\n",
       "115        VILLAVERDE ALTO         329.543990\n",
       "116  VILLAVERDE BAJO CRUCE         262.712455\n",
       "117           VISTA ALEGRE         166.676103\n",
       "\n",
       "[118 rows x 2 columns]"
      ]
     },
     "execution_count": 216,
     "metadata": {},
     "output_type": "execute_result"
    }
   ],
   "source": [
    "interlayer_metro_interurban"
   ]
  },
  {
   "cell_type": "markdown",
   "metadata": {},
   "source": [
    "# JOIN ALL EDGES"
   ]
  },
  {
   "cell_type": "code",
   "execution_count": 250,
   "metadata": {},
   "outputs": [],
   "source": [
    "inter_final_edges = pd.read_csv(FINAL_DATA + \"inter_final_edges.csv\")\n",
    "urban_final_edges = pd.read_csv(FINAL_DATA + \"urban_final_edges.csv\")\n",
    "metro_final_edges = pd.read_csv(FINAL_DATA + \"metro_final_edges.csv\")\n",
    "\n",
    "interlayer_metro_interurban = pd.read_csv(FINAL_DATA + \"interlayer_metro_interurban.csv\")\n",
    "interlayer_metro_urban = pd.read_csv(FINAL_DATA + \"interlayer_metro_urban.csv\")\n",
    "\n",
    "barrio_layer = pd.read_csv(FINAL_DATA + \"Barrio_layer.csv\")\n"
   ]
  },
  {
   "cell_type": "code",
   "execution_count": null,
   "metadata": {},
   "outputs": [],
   "source": [
    "#multi level columns for the final edges\n",
    "\n",
    "\n",
    "metro_final_edges['barrio1'] = metro_final_edges.join(barrio_layer.set_index('stop_name'), on='stop1', rsuffix='_closest')['BARRIO_MT']\n",
    "metro_final_edges['barrio2'] = metro_final_edges.join(barrio_layer.set_index('stop_name'), on='stop2', rsuffix='_closest')['BARRIO_MT']\n",
    "metro_final_edges['transporte1'] = 'metro'\n",
    "metro_final_edges['transporte2'] = 'metro'\n",
    "\n",
    "urban_final_edges['barrio1'] = urban_final_edges.join(barrio_layer.set_index('stop_name'), on='stop1', rsuffix='_closest')['BARRIO_MT']\n",
    "urban_final_edges['barrio2'] = urban_final_edges.join(barrio_layer.set_index('stop_name'), on='stop2', rsuffix='_closest')['BARRIO_MT']\n",
    "urban_final_edges['transporte1'] = 'urban'\n",
    "urban_final_edges['transporte2'] = 'urban'\n",
    "\n",
    "inter_final_edges['barrio1'] = inter_final_edges.join(barrio_layer.set_index('stop_name'), on='stop1', rsuffix='_closest')['BARRIO_MT']\n",
    "inter_final_edges['barrio2'] = inter_final_edges.join(barrio_layer.set_index('stop_name'), on='stop2', rsuffix='_closest')['BARRIO_MT']\n",
    "inter_final_edges['transporte1'] = 'interurban'\n",
    "inter_final_edges['transporte2'] = 'interurban'\n",
    "\n",
    "\n",
    "final_edges = pd.concat([metro_final_edges, urban_final_edges, inter_final_edges], axis=0)\n",
    "\n",
    "MEAN_WALKING_SPEED = 1.4 # m/s\n",
    "\n",
    "interlayer_metro_interurban_aux = pd.DataFrame(columns=final_edges.columns)\n",
    "interlayer_metro_interurban_aux['stop1'] = interlayer_metro_interurban['stop_id']\n",
    "interlayer_metro_interurban_aux['stop2'] = interlayer_metro_interurban['stop_id']\n",
    "interlayer_metro_interurban_aux['mean_time_diff'] = interlayer_metro_interurban['distance_to_metro']\n",
    "interlayer_metro_interurban_aux['mean_time_diff'] = interlayer_metro_interurban_aux['mean_time_diff'] / MEAN_WALKING_SPEED\n",
    "interlayer_metro_interurban_aux['barrio1'] = interlayer_metro_interurban_aux.join(barrio_layer.set_index('stop_name'), on='stop1', rsuffix='_closest')['BARRIO_MT']\n",
    "interlayer_metro_interurban_aux['barrio2'] = interlayer_metro_interurban_aux.join(barrio_layer.set_index('stop_name'), on='stop2', rsuffix='_closest')['BARRIO_MT']\n",
    "interlayer_metro_interurban_aux['transporte1'] = 'interurban'\n",
    "interlayer_metro_interurban_aux['transporte2'] = 'metro'\n",
    "\n",
    "interlayer_metro_urban_aux = pd.DataFrame(columns=final_edges.columns)\n",
    "interlayer_metro_urban_aux['stop1'] = interlayer_metro_urban['stop_id']\n",
    "interlayer_metro_urban_aux['stop2'] = interlayer_metro_urban['stop_id']\n",
    "interlayer_metro_urban_aux['mean_time_diff'] = interlayer_metro_urban['distance_to_metro']/ MEAN_WALKING_SPEED \n",
    "interlayer_metro_urban_aux['barrio1'] = interlayer_metro_urban_aux.join(barrio_layer.set_index('stop_name'), on='stop1', rsuffix='_closest')['BARRIO_MT']\n",
    "interlayer_metro_urban_aux['barrio2'] = interlayer_metro_urban_aux.join(barrio_layer.set_index('stop_name'), on='stop2', rsuffix='_closest')['BARRIO_MT']\n",
    "interlayer_metro_urban_aux['transporte1'] = 'urban'\n",
    "interlayer_metro_urban_aux['transporte2'] = 'metro'\n",
    "\n",
    "final_edges = pd.concat([final_edges, interlayer_metro_interurban_aux, interlayer_metro_urban_aux], axis=0)\n",
    "# set the columns as a jerarchy [node1,barrio1,transporte1] and [node2,barrio2,transporte2]\n",
    "\n",
    "final_edges.to_csv(FINAL_DATA + \"final_edges.csv\", index=False)"
   ]
  },
  {
   "cell_type": "code",
   "execution_count": 8,
   "metadata": {},
   "outputs": [
    {
     "data": {
      "application/vnd.microsoft.datawrangler.viewer.v0+json": {
       "columns": [
        {
         "name": "index",
         "rawType": "int64",
         "type": "integer"
        },
        {
         "name": "stop1",
         "rawType": "object",
         "type": "string"
        },
        {
         "name": "stop2",
         "rawType": "object",
         "type": "string"
        },
        {
         "name": "mean_time_diff",
         "rawType": "float64",
         "type": "float"
        },
        {
         "name": "barrio1",
         "rawType": "object",
         "type": "string"
        },
        {
         "name": "barrio2",
         "rawType": "object",
         "type": "string"
        },
        {
         "name": "transporte1",
         "rawType": "object",
         "type": "string"
        },
        {
         "name": "transporte2",
         "rawType": "object",
         "type": "string"
        }
       ],
       "ref": "624a0497-d01a-4742-a3b3-54c41e7cb44d",
       "rows": [
        [
         "0",
         "ABRANTES",
         "PAN BENDITO",
         "106.5",
         "ABRANTES",
         "ABRANTES",
         "metro",
         "metro"
        ],
        [
         "1",
         "ABRANTES",
         "PLAZA ELIPTICA",
         "123.5",
         "ABRANTES",
         "ABRANTES",
         "metro",
         "metro"
        ],
        [
         "2",
         "ACACIAS",
         "PIRAMIDES",
         "83.0",
         "ACACIAS",
         "ACACIAS",
         "metro",
         "metro"
        ],
        [
         "3",
         "ACACIAS",
         "PUERTA DE TOLEDO",
         "138.0",
         "ACACIAS",
         "EMBAJADORES",
         "metro",
         "metro"
        ],
        [
         "4",
         "AEROPUERTO T-4",
         "BARAJAS",
         "175.0",
         "AEROPUERTO",
         "TIMON",
         "metro",
         "metro"
        ],
        [
         "5",
         "AEROPUERTO T1-T2-T3",
         "BARAJAS",
         "118.0",
         "AEROPUERTO",
         "TIMON",
         "metro",
         "metro"
        ],
        [
         "6",
         "AEROPUERTO T1-T2-T3",
         "FERIA DE MADRID",
         "339.0",
         "AEROPUERTO",
         "CORRALEJOS",
         "metro",
         "metro"
        ],
        [
         "7",
         "ALAMEDA DE OSUNA",
         "EL CAPRICHO",
         "114.0",
         "ALAMEDA DE OSUNA",
         "ALAMEDA DE OSUNA",
         "metro",
         "metro"
        ],
        [
         "8",
         "ALCORCON CENTRAL",
         "PARQUE LISBOA",
         "108.0",
         "Outside",
         "Outside",
         "metro",
         "metro"
        ],
        [
         "9",
         "ALCORCON CENTRAL",
         "PARQUE OESTE",
         "144.0",
         "Outside",
         "Outside",
         "metro",
         "metro"
        ],
        [
         "10",
         "ALFONSO XIII",
         "AVENIDA DE LA PAZ",
         "101.5",
         "PROSPERIDAD",
         "SAN JUAN BAUTISTA",
         "metro",
         "metro"
        ],
        [
         "11",
         "ALFONSO XIII",
         "PROSPERIDAD",
         "137.0",
         "PROSPERIDAD",
         "CIUDAD JARDIN",
         "metro",
         "metro"
        ],
        [
         "12",
         "ALMENDRALES",
         "HOSPITAL 12 DE OCTUBRE",
         "150.5",
         "ALMENDRALES",
         "ORCASUR",
         "metro",
         "metro"
        ],
        [
         "13",
         "ALMENDRALES",
         "LEGAZPI",
         "146.5",
         "ALMENDRALES",
         "CHOPERA",
         "metro",
         "metro"
        ],
        [
         "14",
         "ALONSO CANO",
         "CANAL",
         "61.5",
         "ALMAGRO",
         "ARAPILES",
         "metro",
         "metro"
        ],
        [
         "15",
         "ALONSO CANO",
         "GREGORIO MARAÑON",
         "81.0",
         "ALMAGRO",
         "RIOS ROSAS",
         "metro",
         "metro"
        ],
        [
         "16",
         "ALONSO DE MENDOZA",
         "CONSERVATORIO",
         "108.0",
         "Outside",
         "Outside",
         "metro",
         "metro"
        ],
        [
         "17",
         "ALONSO DE MENDOZA",
         "GETAFE CENTRAL",
         "117.0",
         "Outside",
         "Outside",
         "metro",
         "metro"
        ],
        [
         "18",
         "ALONSO MARTINEZ",
         "BILBAO",
         "69.5",
         "TRAFALGAR",
         "TRAFALGAR",
         "metro",
         "metro"
        ],
        [
         "19",
         "ALONSO MARTINEZ",
         "CHUECA",
         "107.0",
         "TRAFALGAR",
         "JUSTICIA",
         "metro",
         "metro"
        ],
        [
         "20",
         "ALONSO MARTINEZ",
         "COLON",
         "60.5",
         "TRAFALGAR",
         "ALMAGRO",
         "metro",
         "metro"
        ],
        [
         "21",
         "ALONSO MARTINEZ",
         "GREGORIO MARAÑON",
         "134.0",
         "TRAFALGAR",
         "RIOS ROSAS",
         "metro",
         "metro"
        ],
        [
         "22",
         "ALONSO MARTINEZ",
         "RUBEN DARIO",
         "109.0",
         "TRAFALGAR",
         "ALMAGRO",
         "metro",
         "metro"
        ],
        [
         "23",
         "ALONSO MARTINEZ",
         "TRIBUNAL",
         "66.0",
         "TRAFALGAR",
         "JUSTICIA",
         "metro",
         "metro"
        ],
        [
         "24",
         "ALSACIA",
         "AVENIDA DE GUADALAJARA",
         "162.0",
         "ARCOS",
         "ARCOS",
         "metro",
         "metro"
        ],
        [
         "25",
         "ALSACIA",
         "LA ALMUDENA",
         "212.5",
         "ARCOS",
         "PUEBLO NUEVO",
         "metro",
         "metro"
        ],
        [
         "26",
         "ALTO DE EXTREMADURA",
         "LUCERO",
         "131.5",
         "PUERTA DEL ANGEL",
         "LUCERO",
         "metro",
         "metro"
        ],
        [
         "27",
         "ALTO DE EXTREMADURA",
         "PUERTA DEL ANGEL",
         "144.0",
         "PUERTA DEL ANGEL",
         "PUERTA DEL ANGEL",
         "metro",
         "metro"
        ],
        [
         "28",
         "ALTO DEL ARENAL",
         "BUENOS AIRES",
         "103.0",
         "PORTAZGO",
         "PALOMENAS  BAJAS",
         "metro",
         "metro"
        ],
        [
         "29",
         "ALTO DEL ARENAL",
         "MIGUEL HERNANDEZ",
         "99.5",
         "PORTAZGO",
         "PALOMERAS SURESTE",
         "metro",
         "metro"
        ],
        [
         "30",
         "ALUCHE",
         "EMPALME",
         "104.0",
         "ALUCHE",
         "ALUCHE",
         "metro",
         "metro"
        ],
        [
         "31",
         "ALUCHE",
         "EUGENIA DE MONTIJO",
         "143.0",
         "ALUCHE",
         "ALUCHE",
         "metro",
         "metro"
        ],
        [
         "32",
         "ALVARADO",
         "CUATRO CAMINOS",
         "68.5",
         "CUATRO CAMINOS",
         "BELLAS VISTAS",
         "metro",
         "metro"
        ],
        [
         "33",
         "ALVARADO",
         "ESTRECHO",
         "84.5",
         "CUATRO CAMINOS",
         "BERRUGUETE",
         "metro",
         "metro"
        ],
        [
         "34",
         "ANTON MARTIN",
         "ESTACION DEL ARTE",
         "107.0",
         "EMBAJADORES",
         "EMBAJADORES",
         "metro",
         "metro"
        ],
        [
         "35",
         "ANTON MARTIN",
         "TIRSO DE MOLINA",
         "76.5",
         "EMBAJADORES",
         "EMBAJADORES",
         "metro",
         "metro"
        ],
        [
         "36",
         "ANTONIO MACHADO",
         "PEÑAGRANDE",
         "85.5",
         "VALDEZARZA",
         "PILAR",
         "metro",
         "metro"
        ],
        [
         "37",
         "ANTONIO MACHADO",
         "VALDEZARZA",
         "114.5",
         "VALDEZARZA",
         "VALDEZARZA",
         "metro",
         "metro"
        ],
        [
         "38",
         "ARGANDA DEL REY",
         "LA POVEDA",
         "245.5",
         "Outside",
         "Outside",
         "metro",
         "metro"
        ],
        [
         "39",
         "ARGANZUELA-PLANETARIO",
         "LEGAZPI",
         "93.5",
         "LEGAZPI",
         "CHOPERA",
         "metro",
         "metro"
        ],
        [
         "40",
         "ARGANZUELA-PLANETARIO",
         "MENDEZ ALVARO",
         "111.0",
         "LEGAZPI",
         "ATOCHA",
         "metro",
         "metro"
        ],
        [
         "41",
         "ARGÜELLES",
         "MONCLOA",
         "67.0",
         "GAZTAMBIDE",
         "ARGÜELLES",
         "metro",
         "metro"
        ],
        [
         "42",
         "ARGÜELLES",
         "PRINCIPE PIO",
         "190.5",
         "GAZTAMBIDE",
         "CASA DE CAMPO",
         "metro",
         "metro"
        ],
        [
         "43",
         "ARGÜELLES",
         "SAN BERNARDO",
         "130.0",
         "GAZTAMBIDE",
         "TRAFALGAR",
         "metro",
         "metro"
        ],
        [
         "44",
         "ARGÜELLES",
         "VENTURA RODRIGUEZ",
         "68.5",
         "GAZTAMBIDE",
         "UNIVERSIDAD",
         "metro",
         "metro"
        ],
        [
         "45",
         "ARROYO CULEBRO",
         "CONSERVATORIO",
         "89.0",
         "Outside",
         "Outside",
         "metro",
         "metro"
        ],
        [
         "46",
         "ARROYO CULEBRO",
         "PARQUE DE LOS ESTADOS",
         "242.5",
         "Outside",
         "Outside",
         "metro",
         "metro"
        ],
        [
         "47",
         "ARROYOFRESNO",
         "LACOMA",
         "91.0",
         "MIRASIERRA",
         "PEÑAGRANDE",
         "metro",
         "metro"
        ],
        [
         "48",
         "ARROYOFRESNO",
         "PITIS",
         "73.0",
         "MIRASIERRA",
         "MIRASIERRA",
         "metro",
         "metro"
        ],
        [
         "49",
         "ARTILLEROS",
         "PAVONES",
         "126.0",
         "VINATEROS",
         "PAVONES",
         "metro",
         "metro"
        ]
       ],
       "shape": {
        "columns": 7,
        "rows": 1247
       }
      },
      "text/html": [
       "<div>\n",
       "<style scoped>\n",
       "    .dataframe tbody tr th:only-of-type {\n",
       "        vertical-align: middle;\n",
       "    }\n",
       "\n",
       "    .dataframe tbody tr th {\n",
       "        vertical-align: top;\n",
       "    }\n",
       "\n",
       "    .dataframe thead th {\n",
       "        text-align: right;\n",
       "    }\n",
       "</style>\n",
       "<table border=\"1\" class=\"dataframe\">\n",
       "  <thead>\n",
       "    <tr style=\"text-align: right;\">\n",
       "      <th></th>\n",
       "      <th>stop1</th>\n",
       "      <th>stop2</th>\n",
       "      <th>mean_time_diff</th>\n",
       "      <th>barrio1</th>\n",
       "      <th>barrio2</th>\n",
       "      <th>transporte1</th>\n",
       "      <th>transporte2</th>\n",
       "    </tr>\n",
       "  </thead>\n",
       "  <tbody>\n",
       "    <tr>\n",
       "      <th>0</th>\n",
       "      <td>ABRANTES</td>\n",
       "      <td>PAN BENDITO</td>\n",
       "      <td>106.500000</td>\n",
       "      <td>ABRANTES</td>\n",
       "      <td>ABRANTES</td>\n",
       "      <td>metro</td>\n",
       "      <td>metro</td>\n",
       "    </tr>\n",
       "    <tr>\n",
       "      <th>1</th>\n",
       "      <td>ABRANTES</td>\n",
       "      <td>PLAZA ELIPTICA</td>\n",
       "      <td>123.500000</td>\n",
       "      <td>ABRANTES</td>\n",
       "      <td>ABRANTES</td>\n",
       "      <td>metro</td>\n",
       "      <td>metro</td>\n",
       "    </tr>\n",
       "    <tr>\n",
       "      <th>2</th>\n",
       "      <td>ACACIAS</td>\n",
       "      <td>PIRAMIDES</td>\n",
       "      <td>83.000000</td>\n",
       "      <td>ACACIAS</td>\n",
       "      <td>ACACIAS</td>\n",
       "      <td>metro</td>\n",
       "      <td>metro</td>\n",
       "    </tr>\n",
       "    <tr>\n",
       "      <th>3</th>\n",
       "      <td>ACACIAS</td>\n",
       "      <td>PUERTA DE TOLEDO</td>\n",
       "      <td>138.000000</td>\n",
       "      <td>ACACIAS</td>\n",
       "      <td>EMBAJADORES</td>\n",
       "      <td>metro</td>\n",
       "      <td>metro</td>\n",
       "    </tr>\n",
       "    <tr>\n",
       "      <th>4</th>\n",
       "      <td>AEROPUERTO T-4</td>\n",
       "      <td>BARAJAS</td>\n",
       "      <td>175.000000</td>\n",
       "      <td>AEROPUERTO</td>\n",
       "      <td>TIMON</td>\n",
       "      <td>metro</td>\n",
       "      <td>metro</td>\n",
       "    </tr>\n",
       "    <tr>\n",
       "      <th>...</th>\n",
       "      <td>...</td>\n",
       "      <td>...</td>\n",
       "      <td>...</td>\n",
       "      <td>...</td>\n",
       "      <td>...</td>\n",
       "      <td>...</td>\n",
       "      <td>...</td>\n",
       "    </tr>\n",
       "    <tr>\n",
       "      <th>1242</th>\n",
       "      <td>VILLA DE VALLECAS</td>\n",
       "      <td>VILLA DE VALLECAS</td>\n",
       "      <td>180.188879</td>\n",
       "      <td>CASCO HISTORICO DE VALLECAS</td>\n",
       "      <td>CASCO HISTORICO DE VALLECAS</td>\n",
       "      <td>urban</td>\n",
       "      <td>metro</td>\n",
       "    </tr>\n",
       "    <tr>\n",
       "      <th>1243</th>\n",
       "      <td>VILLAVERDE ALTO</td>\n",
       "      <td>VILLAVERDE ALTO</td>\n",
       "      <td>256.961524</td>\n",
       "      <td>VILLAVERDE ALTO - CASCO HISTORICO DE VILLAVERDE</td>\n",
       "      <td>VILLAVERDE ALTO - CASCO HISTORICO DE VILLAVERDE</td>\n",
       "      <td>urban</td>\n",
       "      <td>metro</td>\n",
       "    </tr>\n",
       "    <tr>\n",
       "      <th>1244</th>\n",
       "      <td>VILLAVERDE BAJO CRUCE</td>\n",
       "      <td>VILLAVERDE BAJO CRUCE</td>\n",
       "      <td>241.230300</td>\n",
       "      <td>LOS ROSALES</td>\n",
       "      <td>LOS ROSALES</td>\n",
       "      <td>urban</td>\n",
       "      <td>metro</td>\n",
       "    </tr>\n",
       "    <tr>\n",
       "      <th>1245</th>\n",
       "      <td>VINATEROS</td>\n",
       "      <td>VINATEROS</td>\n",
       "      <td>260.545173</td>\n",
       "      <td>MEDIA LEGUA</td>\n",
       "      <td>MEDIA LEGUA</td>\n",
       "      <td>urban</td>\n",
       "      <td>metro</td>\n",
       "    </tr>\n",
       "    <tr>\n",
       "      <th>1246</th>\n",
       "      <td>VISTA ALEGRE</td>\n",
       "      <td>VISTA ALEGRE</td>\n",
       "      <td>245.296507</td>\n",
       "      <td>VISTA ALEGRE</td>\n",
       "      <td>VISTA ALEGRE</td>\n",
       "      <td>urban</td>\n",
       "      <td>metro</td>\n",
       "    </tr>\n",
       "  </tbody>\n",
       "</table>\n",
       "<p>1247 rows × 7 columns</p>\n",
       "</div>"
      ],
      "text/plain": [
       "                      stop1                  stop2  mean_time_diff  \\\n",
       "0                  ABRANTES            PAN BENDITO      106.500000   \n",
       "1                  ABRANTES         PLAZA ELIPTICA      123.500000   \n",
       "2                   ACACIAS              PIRAMIDES       83.000000   \n",
       "3                   ACACIAS       PUERTA DE TOLEDO      138.000000   \n",
       "4            AEROPUERTO T-4                BARAJAS      175.000000   \n",
       "...                     ...                    ...             ...   \n",
       "1242      VILLA DE VALLECAS      VILLA DE VALLECAS      180.188879   \n",
       "1243        VILLAVERDE ALTO        VILLAVERDE ALTO      256.961524   \n",
       "1244  VILLAVERDE BAJO CRUCE  VILLAVERDE BAJO CRUCE      241.230300   \n",
       "1245              VINATEROS              VINATEROS      260.545173   \n",
       "1246           VISTA ALEGRE           VISTA ALEGRE      245.296507   \n",
       "\n",
       "                                              barrio1  \\\n",
       "0                                            ABRANTES   \n",
       "1                                            ABRANTES   \n",
       "2                                             ACACIAS   \n",
       "3                                             ACACIAS   \n",
       "4                                          AEROPUERTO   \n",
       "...                                               ...   \n",
       "1242                      CASCO HISTORICO DE VALLECAS   \n",
       "1243  VILLAVERDE ALTO - CASCO HISTORICO DE VILLAVERDE   \n",
       "1244                                      LOS ROSALES   \n",
       "1245                                      MEDIA LEGUA   \n",
       "1246                                     VISTA ALEGRE   \n",
       "\n",
       "                                              barrio2 transporte1 transporte2  \n",
       "0                                            ABRANTES       metro       metro  \n",
       "1                                            ABRANTES       metro       metro  \n",
       "2                                             ACACIAS       metro       metro  \n",
       "3                                         EMBAJADORES       metro       metro  \n",
       "4                                               TIMON       metro       metro  \n",
       "...                                               ...         ...         ...  \n",
       "1242                      CASCO HISTORICO DE VALLECAS       urban       metro  \n",
       "1243  VILLAVERDE ALTO - CASCO HISTORICO DE VILLAVERDE       urban       metro  \n",
       "1244                                      LOS ROSALES       urban       metro  \n",
       "1245                                      MEDIA LEGUA       urban       metro  \n",
       "1246                                     VISTA ALEGRE       urban       metro  \n",
       "\n",
       "[1247 rows x 7 columns]"
      ]
     },
     "execution_count": 8,
     "metadata": {},
     "output_type": "execute_result"
    }
   ],
   "source": [
    "FINAL_DATA = 'Final_data/'\n",
    "final_edges = pd.read_csv(FINAL_DATA + \"final_edges.csv\")\n",
    "final_edges"
   ]
  },
  {
   "cell_type": "code",
   "execution_count": 287,
   "metadata": {},
   "outputs": [],
   "source": [
    "nodes = pd.DataFrame()\n",
    "nodes['stop'] = pd.concat([final_edges['stop1'], final_edges['stop2']],axis=0)\n",
    "nodes['barrio'] = pd.concat([final_edges['barrio1'], final_edges['barrio2']])\n",
    "nodes['transporte'] = pd.concat([final_edges['transporte1'], final_edges['transporte2']])\n",
    "\n",
    "nodes = nodes.drop_duplicates(subset=['stop','barrio','transporte'])\n",
    "nodes.to_csv(FINAL_DATA + \"final_nodes.csv\", index=False)"
   ]
  },
  {
   "cell_type": "code",
   "execution_count": 293,
   "metadata": {},
   "outputs": [],
   "source": [
    "final_edges_1 = final_edges[['stop1','barrio1','transporte1']]\n",
    "final_edges_2 = final_edges[['stop2','barrio2','transporte2']]\n",
    "final_edges_cost = final_edges[['mean_time_diff']]  \n",
    "\n",
    "final_edges_final_final = {}\n",
    "final_edges_final_final['node1'] = final_edges_1\n",
    "final_edges_final_final['node2'] = final_edges_2\n",
    "final_edges_final_final['cost'] = final_edges_cost\n",
    "pd.concat(final_edges_final_final,axis=1).to_csv(FINAL_DATA + \"final_edges_final_final.csv\", index=False)"
   ]
  },
  {
   "cell_type": "code",
   "execution_count": 292,
   "metadata": {},
   "outputs": [
    {
     "data": {
      "application/vnd.microsoft.datawrangler.viewer.v0+json": {
       "columns": [
        {
         "name": "index",
         "rawType": "int64",
         "type": "integer"
        },
        {
         "name": "stop1",
         "rawType": "object",
         "type": "string"
        },
        {
         "name": "barrio1",
         "rawType": "object",
         "type": "string"
        },
        {
         "name": "transporte1",
         "rawType": "object",
         "type": "string"
        }
       ],
       "conversionMethod": "pd.DataFrame",
       "ref": "3a112ccc-a80b-41dd-9b43-94449f4aa3fa",
       "rows": [
        [
         "0",
         "ABRANTES",
         "ABRANTES",
         "metro"
        ],
        [
         "1",
         "ABRANTES",
         "ABRANTES",
         "metro"
        ],
        [
         "2",
         "ACACIAS",
         "ACACIAS",
         "metro"
        ],
        [
         "3",
         "ACACIAS",
         "ACACIAS",
         "metro"
        ],
        [
         "4",
         "AEROPUERTO T-4",
         "AEROPUERTO",
         "metro"
        ],
        [
         "5",
         "AEROPUERTO T1-T2-T3",
         "AEROPUERTO",
         "metro"
        ],
        [
         "6",
         "AEROPUERTO T1-T2-T3",
         "AEROPUERTO",
         "metro"
        ],
        [
         "7",
         "ALAMEDA DE OSUNA",
         "ALAMEDA DE OSUNA",
         "metro"
        ],
        [
         "8",
         "ALCORCON CENTRAL",
         "Outside",
         "metro"
        ],
        [
         "9",
         "ALCORCON CENTRAL",
         "Outside",
         "metro"
        ],
        [
         "10",
         "ALFONSO XIII",
         "PROSPERIDAD",
         "metro"
        ],
        [
         "11",
         "ALFONSO XIII",
         "PROSPERIDAD",
         "metro"
        ],
        [
         "12",
         "ALMENDRALES",
         "ALMENDRALES",
         "metro"
        ],
        [
         "13",
         "ALMENDRALES",
         "ALMENDRALES",
         "metro"
        ],
        [
         "14",
         "ALONSO CANO",
         "ALMAGRO",
         "metro"
        ],
        [
         "15",
         "ALONSO CANO",
         "ALMAGRO",
         "metro"
        ],
        [
         "16",
         "ALONSO DE MENDOZA",
         "Outside",
         "metro"
        ],
        [
         "17",
         "ALONSO DE MENDOZA",
         "Outside",
         "metro"
        ],
        [
         "18",
         "ALONSO MARTINEZ",
         "TRAFALGAR",
         "metro"
        ],
        [
         "19",
         "ALONSO MARTINEZ",
         "TRAFALGAR",
         "metro"
        ],
        [
         "20",
         "ALONSO MARTINEZ",
         "TRAFALGAR",
         "metro"
        ],
        [
         "21",
         "ALONSO MARTINEZ",
         "TRAFALGAR",
         "metro"
        ],
        [
         "22",
         "ALONSO MARTINEZ",
         "TRAFALGAR",
         "metro"
        ],
        [
         "23",
         "ALONSO MARTINEZ",
         "TRAFALGAR",
         "metro"
        ],
        [
         "24",
         "ALSACIA",
         "ARCOS",
         "metro"
        ],
        [
         "25",
         "ALSACIA",
         "ARCOS",
         "metro"
        ],
        [
         "26",
         "ALTO DE EXTREMADURA",
         "PUERTA DEL ANGEL",
         "metro"
        ],
        [
         "27",
         "ALTO DE EXTREMADURA",
         "PUERTA DEL ANGEL",
         "metro"
        ],
        [
         "28",
         "ALTO DEL ARENAL",
         "PORTAZGO",
         "metro"
        ],
        [
         "29",
         "ALTO DEL ARENAL",
         "PORTAZGO",
         "metro"
        ],
        [
         "30",
         "ALUCHE",
         "ALUCHE",
         "metro"
        ],
        [
         "31",
         "ALUCHE",
         "ALUCHE",
         "metro"
        ],
        [
         "32",
         "ALVARADO",
         "CUATRO CAMINOS",
         "metro"
        ],
        [
         "33",
         "ALVARADO",
         "CUATRO CAMINOS",
         "metro"
        ],
        [
         "34",
         "ANTON MARTIN",
         "EMBAJADORES",
         "metro"
        ],
        [
         "35",
         "ANTON MARTIN",
         "EMBAJADORES",
         "metro"
        ],
        [
         "36",
         "ANTONIO MACHADO",
         "VALDEZARZA",
         "metro"
        ],
        [
         "37",
         "ANTONIO MACHADO",
         "VALDEZARZA",
         "metro"
        ],
        [
         "38",
         "ARGANDA DEL REY",
         "Outside",
         "metro"
        ],
        [
         "39",
         "ARGANZUELA-PLANETARIO",
         "LEGAZPI",
         "metro"
        ],
        [
         "40",
         "ARGANZUELA-PLANETARIO",
         "LEGAZPI",
         "metro"
        ],
        [
         "41",
         "ARGÜELLES",
         "GAZTAMBIDE",
         "metro"
        ],
        [
         "42",
         "ARGÜELLES",
         "GAZTAMBIDE",
         "metro"
        ],
        [
         "43",
         "ARGÜELLES",
         "GAZTAMBIDE",
         "metro"
        ],
        [
         "44",
         "ARGÜELLES",
         "GAZTAMBIDE",
         "metro"
        ],
        [
         "45",
         "ARROYO CULEBRO",
         "Outside",
         "metro"
        ],
        [
         "46",
         "ARROYO CULEBRO",
         "Outside",
         "metro"
        ],
        [
         "47",
         "ARROYOFRESNO",
         "MIRASIERRA",
         "metro"
        ],
        [
         "48",
         "ARROYOFRESNO",
         "MIRASIERRA",
         "metro"
        ],
        [
         "49",
         "ARTILLEROS",
         "VINATEROS",
         "metro"
        ]
       ],
       "shape": {
        "columns": 3,
        "rows": 1247
       }
      },
      "text/html": [
       "<div>\n",
       "<style scoped>\n",
       "    .dataframe tbody tr th:only-of-type {\n",
       "        vertical-align: middle;\n",
       "    }\n",
       "\n",
       "    .dataframe tbody tr th {\n",
       "        vertical-align: top;\n",
       "    }\n",
       "\n",
       "    .dataframe thead th {\n",
       "        text-align: right;\n",
       "    }\n",
       "</style>\n",
       "<table border=\"1\" class=\"dataframe\">\n",
       "  <thead>\n",
       "    <tr style=\"text-align: right;\">\n",
       "      <th></th>\n",
       "      <th>stop1</th>\n",
       "      <th>barrio1</th>\n",
       "      <th>transporte1</th>\n",
       "    </tr>\n",
       "  </thead>\n",
       "  <tbody>\n",
       "    <tr>\n",
       "      <th>0</th>\n",
       "      <td>ABRANTES</td>\n",
       "      <td>ABRANTES</td>\n",
       "      <td>metro</td>\n",
       "    </tr>\n",
       "    <tr>\n",
       "      <th>1</th>\n",
       "      <td>ABRANTES</td>\n",
       "      <td>ABRANTES</td>\n",
       "      <td>metro</td>\n",
       "    </tr>\n",
       "    <tr>\n",
       "      <th>2</th>\n",
       "      <td>ACACIAS</td>\n",
       "      <td>ACACIAS</td>\n",
       "      <td>metro</td>\n",
       "    </tr>\n",
       "    <tr>\n",
       "      <th>3</th>\n",
       "      <td>ACACIAS</td>\n",
       "      <td>ACACIAS</td>\n",
       "      <td>metro</td>\n",
       "    </tr>\n",
       "    <tr>\n",
       "      <th>4</th>\n",
       "      <td>AEROPUERTO T-4</td>\n",
       "      <td>AEROPUERTO</td>\n",
       "      <td>metro</td>\n",
       "    </tr>\n",
       "    <tr>\n",
       "      <th>...</th>\n",
       "      <td>...</td>\n",
       "      <td>...</td>\n",
       "      <td>...</td>\n",
       "    </tr>\n",
       "    <tr>\n",
       "      <th>187</th>\n",
       "      <td>VILLA DE VALLECAS</td>\n",
       "      <td>CASCO HISTORICO DE VALLECAS</td>\n",
       "      <td>urban</td>\n",
       "    </tr>\n",
       "    <tr>\n",
       "      <th>188</th>\n",
       "      <td>VILLAVERDE ALTO</td>\n",
       "      <td>VILLAVERDE ALTO - CASCO HISTORICO DE VILLAVERDE</td>\n",
       "      <td>urban</td>\n",
       "    </tr>\n",
       "    <tr>\n",
       "      <th>189</th>\n",
       "      <td>VILLAVERDE BAJO CRUCE</td>\n",
       "      <td>LOS ROSALES</td>\n",
       "      <td>urban</td>\n",
       "    </tr>\n",
       "    <tr>\n",
       "      <th>190</th>\n",
       "      <td>VINATEROS</td>\n",
       "      <td>MEDIA LEGUA</td>\n",
       "      <td>urban</td>\n",
       "    </tr>\n",
       "    <tr>\n",
       "      <th>191</th>\n",
       "      <td>VISTA ALEGRE</td>\n",
       "      <td>VISTA ALEGRE</td>\n",
       "      <td>urban</td>\n",
       "    </tr>\n",
       "  </tbody>\n",
       "</table>\n",
       "<p>1247 rows × 3 columns</p>\n",
       "</div>"
      ],
      "text/plain": [
       "                     stop1                                          barrio1  \\\n",
       "0                 ABRANTES                                         ABRANTES   \n",
       "1                 ABRANTES                                         ABRANTES   \n",
       "2                  ACACIAS                                          ACACIAS   \n",
       "3                  ACACIAS                                          ACACIAS   \n",
       "4           AEROPUERTO T-4                                       AEROPUERTO   \n",
       "..                     ...                                              ...   \n",
       "187      VILLA DE VALLECAS                      CASCO HISTORICO DE VALLECAS   \n",
       "188        VILLAVERDE ALTO  VILLAVERDE ALTO - CASCO HISTORICO DE VILLAVERDE   \n",
       "189  VILLAVERDE BAJO CRUCE                                      LOS ROSALES   \n",
       "190              VINATEROS                                      MEDIA LEGUA   \n",
       "191           VISTA ALEGRE                                     VISTA ALEGRE   \n",
       "\n",
       "    transporte1  \n",
       "0         metro  \n",
       "1         metro  \n",
       "2         metro  \n",
       "3         metro  \n",
       "4         metro  \n",
       "..          ...  \n",
       "187       urban  \n",
       "188       urban  \n",
       "189       urban  \n",
       "190       urban  \n",
       "191       urban  \n",
       "\n",
       "[1247 rows x 3 columns]"
      ]
     },
     "execution_count": 292,
     "metadata": {},
     "output_type": "execute_result"
    }
   ],
   "source": [
    "final_edges_final_final['node1']"
   ]
  },
  {
   "cell_type": "code",
   "execution_count": 30,
   "metadata": {},
   "outputs": [
    {
     "data": {
      "application/vnd.microsoft.datawrangler.viewer.v0+json": {
       "columns": [
        {
         "name": "index",
         "rawType": "int64",
         "type": "integer"
        },
        {
         "name": "stop",
         "rawType": "object",
         "type": "string"
        },
        {
         "name": "transporte",
         "rawType": "object",
         "type": "string"
        }
       ],
       "ref": "2dc4920c-4212-4629-b149-2371f3401a09",
       "rows": [
        [
         "0",
         "ABRANTES",
         "metro"
        ],
        [
         "1",
         "ACACIAS",
         "metro"
        ],
        [
         "2",
         "AEROPUERTO T-4",
         "metro"
        ],
        [
         "3",
         "AEROPUERTO T1-T2-T3",
         "metro"
        ],
        [
         "4",
         "ALAMEDA DE OSUNA",
         "metro"
        ],
        [
         "5",
         "ALCORCON CENTRAL",
         "metro"
        ],
        [
         "6",
         "ALFONSO XIII",
         "metro"
        ],
        [
         "7",
         "ALMENDRALES",
         "metro"
        ],
        [
         "8",
         "ALONSO CANO",
         "metro"
        ],
        [
         "9",
         "ALONSO DE MENDOZA",
         "metro"
        ],
        [
         "10",
         "ALONSO MARTINEZ",
         "metro"
        ],
        [
         "11",
         "ALSACIA",
         "metro"
        ],
        [
         "12",
         "ALTO DE EXTREMADURA",
         "metro"
        ],
        [
         "13",
         "ALTO DEL ARENAL",
         "metro"
        ],
        [
         "14",
         "ALUCHE",
         "metro"
        ],
        [
         "15",
         "ALVARADO",
         "metro"
        ],
        [
         "16",
         "ANTON MARTIN",
         "metro"
        ],
        [
         "17",
         "ANTONIO MACHADO",
         "metro"
        ],
        [
         "18",
         "ARGANDA DEL REY",
         "metro"
        ],
        [
         "19",
         "ARGANZUELA-PLANETARIO",
         "metro"
        ],
        [
         "20",
         "ARGÜELLES",
         "metro"
        ],
        [
         "21",
         "ARROYO CULEBRO",
         "metro"
        ],
        [
         "22",
         "ARROYOFRESNO",
         "metro"
        ],
        [
         "23",
         "ARTILLEROS",
         "metro"
        ],
        [
         "24",
         "ARTURO SORIA",
         "metro"
        ],
        [
         "25",
         "ASCAO",
         "metro"
        ],
        [
         "26",
         "ATOCHA",
         "metro"
        ],
        [
         "27",
         "AVENIDA DE AMERICA",
         "metro"
        ],
        [
         "28",
         "AVENIDA DE GUADALAJARA",
         "metro"
        ],
        [
         "29",
         "AVENIDA DE LA ILUSTRACION",
         "metro"
        ],
        [
         "30",
         "AVIACION ESPAÑOLA",
         "metro"
        ],
        [
         "31",
         "BAMBU",
         "metro"
        ],
        [
         "32",
         "BANCO DE ESPAÑA",
         "metro"
        ],
        [
         "33",
         "BARRIO DE LA CONCEPCION",
         "metro"
        ],
        [
         "34",
         "BARRIO DEL PILAR",
         "metro"
        ],
        [
         "35",
         "BARRIO DEL PUERTO",
         "metro"
        ],
        [
         "36",
         "BATAN",
         "metro"
        ],
        [
         "37",
         "BAUNATAL",
         "metro"
        ],
        [
         "38",
         "BEGOÑA",
         "metro"
        ],
        [
         "39",
         "BILBAO",
         "metro"
        ],
        [
         "40",
         "BUENOS AIRES",
         "metro"
        ],
        [
         "41",
         "CALLAO",
         "metro"
        ],
        [
         "42",
         "CAMPAMENTO",
         "metro"
        ],
        [
         "43",
         "CANAL",
         "metro"
        ],
        [
         "44",
         "CANILLAS",
         "metro"
        ],
        [
         "45",
         "CANILLEJAS",
         "metro"
        ],
        [
         "46",
         "CARABANCHEL",
         "metro"
        ],
        [
         "47",
         "CARABANCHEL ALTO",
         "metro"
        ],
        [
         "48",
         "CARPETANA",
         "metro"
        ],
        [
         "49",
         "CARTAGENA",
         "metro"
        ]
       ],
       "shape": {
        "columns": 2,
        "rows": 552
       }
      },
      "text/html": [
       "<div>\n",
       "<style scoped>\n",
       "    .dataframe tbody tr th:only-of-type {\n",
       "        vertical-align: middle;\n",
       "    }\n",
       "\n",
       "    .dataframe tbody tr th {\n",
       "        vertical-align: top;\n",
       "    }\n",
       "\n",
       "    .dataframe thead th {\n",
       "        text-align: right;\n",
       "    }\n",
       "</style>\n",
       "<table border=\"1\" class=\"dataframe\">\n",
       "  <thead>\n",
       "    <tr style=\"text-align: right;\">\n",
       "      <th></th>\n",
       "      <th>stop</th>\n",
       "      <th>transporte</th>\n",
       "    </tr>\n",
       "  </thead>\n",
       "  <tbody>\n",
       "    <tr>\n",
       "      <th>0</th>\n",
       "      <td>ABRANTES</td>\n",
       "      <td>metro</td>\n",
       "    </tr>\n",
       "    <tr>\n",
       "      <th>1</th>\n",
       "      <td>ACACIAS</td>\n",
       "      <td>metro</td>\n",
       "    </tr>\n",
       "    <tr>\n",
       "      <th>2</th>\n",
       "      <td>AEROPUERTO T-4</td>\n",
       "      <td>metro</td>\n",
       "    </tr>\n",
       "    <tr>\n",
       "      <th>3</th>\n",
       "      <td>AEROPUERTO T1-T2-T3</td>\n",
       "      <td>metro</td>\n",
       "    </tr>\n",
       "    <tr>\n",
       "      <th>4</th>\n",
       "      <td>ALAMEDA DE OSUNA</td>\n",
       "      <td>metro</td>\n",
       "    </tr>\n",
       "    <tr>\n",
       "      <th>...</th>\n",
       "      <td>...</td>\n",
       "      <td>...</td>\n",
       "    </tr>\n",
       "    <tr>\n",
       "      <th>547</th>\n",
       "      <td>PUENTE DE VALLECAS</td>\n",
       "      <td>metro</td>\n",
       "    </tr>\n",
       "    <tr>\n",
       "      <th>548</th>\n",
       "      <td>VALDEACEDERAS</td>\n",
       "      <td>metro</td>\n",
       "    </tr>\n",
       "    <tr>\n",
       "      <th>549</th>\n",
       "      <td>RIVAS URBANIZACIONES</td>\n",
       "      <td>metro</td>\n",
       "    </tr>\n",
       "    <tr>\n",
       "      <th>550</th>\n",
       "      <td>VICALVARO</td>\n",
       "      <td>metro</td>\n",
       "    </tr>\n",
       "    <tr>\n",
       "      <th>551</th>\n",
       "      <td>VILLAVERDE ALTO</td>\n",
       "      <td>metro</td>\n",
       "    </tr>\n",
       "  </tbody>\n",
       "</table>\n",
       "<p>552 rows × 2 columns</p>\n",
       "</div>"
      ],
      "text/plain": [
       "                     stop transporte\n",
       "0                ABRANTES      metro\n",
       "1                 ACACIAS      metro\n",
       "2          AEROPUERTO T-4      metro\n",
       "3     AEROPUERTO T1-T2-T3      metro\n",
       "4        ALAMEDA DE OSUNA      metro\n",
       "..                    ...        ...\n",
       "547    PUENTE DE VALLECAS      metro\n",
       "548         VALDEACEDERAS      metro\n",
       "549  RIVAS URBANIZACIONES      metro\n",
       "550             VICALVARO      metro\n",
       "551       VILLAVERDE ALTO      metro\n",
       "\n",
       "[552 rows x 2 columns]"
      ]
     },
     "execution_count": 30,
     "metadata": {},
     "output_type": "execute_result"
    }
   ],
   "source": [
    "nodes = pd.read_csv(FINAL_DATA + \"final_nodes.csv\")\n",
    "nodes = nodes[['stop','transporte']]\n",
    "nodes"
   ]
  },
  {
   "cell_type": "code",
   "execution_count": 31,
   "metadata": {},
   "outputs": [
    {
     "data": {
      "text/html": [
       "<div>\n",
       "<style scoped>\n",
       "    .dataframe tbody tr th:only-of-type {\n",
       "        vertical-align: middle;\n",
       "    }\n",
       "\n",
       "    .dataframe tbody tr th {\n",
       "        vertical-align: top;\n",
       "    }\n",
       "\n",
       "    .dataframe thead th {\n",
       "        text-align: right;\n",
       "    }\n",
       "</style>\n",
       "<table border=\"1\" class=\"dataframe\">\n",
       "  <thead>\n",
       "    <tr style=\"text-align: right;\">\n",
       "      <th></th>\n",
       "      <th>stop_name</th>\n",
       "      <th>stop_lat</th>\n",
       "      <th>stop_lon</th>\n",
       "      <th>geometry</th>\n",
       "      <th>transporte</th>\n",
       "    </tr>\n",
       "  </thead>\n",
       "  <tbody>\n",
       "    <tr>\n",
       "      <th>0</th>\n",
       "      <td>PLAZA DE CASTILLA</td>\n",
       "      <td>40.466900</td>\n",
       "      <td>-3.689170</td>\n",
       "      <td>POINT (441575.052 4479808.7)</td>\n",
       "      <td>1_metro</td>\n",
       "    </tr>\n",
       "    <tr>\n",
       "      <th>1</th>\n",
       "      <td>TRIBUNAL</td>\n",
       "      <td>40.426190</td>\n",
       "      <td>-3.701100</td>\n",
       "      <td>POINT (440527.795 4475297.848)</td>\n",
       "      <td>1_metro</td>\n",
       "    </tr>\n",
       "    <tr>\n",
       "      <th>2</th>\n",
       "      <td>GRAN VIA</td>\n",
       "      <td>40.420010</td>\n",
       "      <td>-3.701800</td>\n",
       "      <td>POINT (440462.967 4474612.341)</td>\n",
       "      <td>1_metro</td>\n",
       "    </tr>\n",
       "    <tr>\n",
       "      <th>3</th>\n",
       "      <td>SOL</td>\n",
       "      <td>40.416880</td>\n",
       "      <td>-3.703260</td>\n",
       "      <td>POINT (440336.342 4474265.897)</td>\n",
       "      <td>1_metro</td>\n",
       "    </tr>\n",
       "    <tr>\n",
       "      <th>4</th>\n",
       "      <td>TIRSO DE MOLINA</td>\n",
       "      <td>40.412350</td>\n",
       "      <td>-3.704660</td>\n",
       "      <td>POINT (440213.557 4473764.015)</td>\n",
       "      <td>1_metro</td>\n",
       "    </tr>\n",
       "    <tr>\n",
       "      <th>...</th>\n",
       "      <td>...</td>\n",
       "      <td>...</td>\n",
       "      <td>...</td>\n",
       "      <td>...</td>\n",
       "      <td>...</td>\n",
       "    </tr>\n",
       "    <tr>\n",
       "      <th>9892</th>\n",
       "      <td>SEVERO OCHOA-RACHEL CARSON</td>\n",
       "      <td>40.276326</td>\n",
       "      <td>-3.684580</td>\n",
       "      <td>POINT (441800.484 4458652.248)</td>\n",
       "      <td>3_interurban</td>\n",
       "    </tr>\n",
       "    <tr>\n",
       "      <th>9893</th>\n",
       "      <td>SEVERO OCHOA-SUPERMERCADOS</td>\n",
       "      <td>40.278218</td>\n",
       "      <td>-3.683070</td>\n",
       "      <td>POINT (441930.482 4458861.246)</td>\n",
       "      <td>3_interurban</td>\n",
       "    </tr>\n",
       "    <tr>\n",
       "      <th>9894</th>\n",
       "      <td>SEVERO OCHOA-SALIDA POLÍGONO</td>\n",
       "      <td>40.282282</td>\n",
       "      <td>-3.679817</td>\n",
       "      <td>POINT (442210.479 4459310.24)</td>\n",
       "      <td>3_interurban</td>\n",
       "    </tr>\n",
       "    <tr>\n",
       "      <th>9895</th>\n",
       "      <td>BASE AEREA-PARKING</td>\n",
       "      <td>40.305160</td>\n",
       "      <td>-3.718090</td>\n",
       "      <td>POINT (438977.516 4461875.209)</td>\n",
       "      <td>3_interurban</td>\n",
       "    </tr>\n",
       "    <tr>\n",
       "      <th>9896</th>\n",
       "      <td>FUNDIDORES-AV.DON JUAN DE BORBÓN</td>\n",
       "      <td>40.312414</td>\n",
       "      <td>-3.710458</td>\n",
       "      <td>POINT (439632.508 4462675.2)</td>\n",
       "      <td>3_interurban</td>\n",
       "    </tr>\n",
       "  </tbody>\n",
       "</table>\n",
       "<p>14990 rows × 5 columns</p>\n",
       "</div>"
      ],
      "text/plain": [
       "                             stop_name   stop_lat  stop_lon  \\\n",
       "0                    PLAZA DE CASTILLA  40.466900 -3.689170   \n",
       "1                             TRIBUNAL  40.426190 -3.701100   \n",
       "2                             GRAN VIA  40.420010 -3.701800   \n",
       "3                                  SOL  40.416880 -3.703260   \n",
       "4                      TIRSO DE MOLINA  40.412350 -3.704660   \n",
       "...                                ...        ...       ...   \n",
       "9892        SEVERO OCHOA-RACHEL CARSON  40.276326 -3.684580   \n",
       "9893        SEVERO OCHOA-SUPERMERCADOS  40.278218 -3.683070   \n",
       "9894      SEVERO OCHOA-SALIDA POLÍGONO  40.282282 -3.679817   \n",
       "9895                BASE AEREA-PARKING  40.305160 -3.718090   \n",
       "9896  FUNDIDORES-AV.DON JUAN DE BORBÓN  40.312414 -3.710458   \n",
       "\n",
       "                            geometry    transporte  \n",
       "0       POINT (441575.052 4479808.7)       1_metro  \n",
       "1     POINT (440527.795 4475297.848)       1_metro  \n",
       "2     POINT (440462.967 4474612.341)       1_metro  \n",
       "3     POINT (440336.342 4474265.897)       1_metro  \n",
       "4     POINT (440213.557 4473764.015)       1_metro  \n",
       "...                              ...           ...  \n",
       "9892  POINT (441800.484 4458652.248)  3_interurban  \n",
       "9893  POINT (441930.482 4458861.246)  3_interurban  \n",
       "9894   POINT (442210.479 4459310.24)  3_interurban  \n",
       "9895  POINT (438977.516 4461875.209)  3_interurban  \n",
       "9896    POINT (439632.508 4462675.2)  3_interurban  \n",
       "\n",
       "[14990 rows x 5 columns]"
      ]
     },
     "execution_count": 31,
     "metadata": {},
     "output_type": "execute_result"
    }
   ],
   "source": [
    "metro_shp = nodes_to_gdf(metro_nodes)[['stop_name', 'stop_lat', 'stop_lon', 'geometry']]\n",
    "metro_shp['transporte'] = '1_metro'\n",
    "urban_shp = nodes_to_gdf(urban_nodes)[['stop_name', 'stop_lat', 'stop_lon', 'geometry']]\n",
    "urban_shp['transporte'] = '2_urban'\n",
    "inter_shp = nodes_to_gdf(inter_nodes)[['stop_name', 'stop_lat', 'stop_lon', 'geometry']]\n",
    "inter_shp['transporte'] = '3_interurban'\n",
    "\n",
    "node_shp = pd.concat([metro_shp, urban_shp, inter_shp])\n",
    "node_shp"
   ]
  },
  {
   "cell_type": "code",
   "execution_count": 32,
   "metadata": {},
   "outputs": [],
   "source": [
    "node_shp = node_shp.sort_values(by='transporte').drop_duplicates(subset=['stop_name'])\n",
    "node_shp['transporte'] = node_shp['transporte'].apply(lambda x: x.split('_')[1])\n",
    "\n",
    "nodes = nodes.merge(node_shp, left_on='stop', right_on='stop_name', how='left')\n",
    "nodes.to_csv(FINAL_DATA + \"final_nodes.csv\", index=False)"
   ]
  },
  {
   "cell_type": "markdown",
   "metadata": {},
   "source": []
  },
  {
   "cell_type": "markdown",
   "metadata": {},
   "source": []
  }
 ],
 "metadata": {
  "kernelspec": {
   "display_name": ".venv",
   "language": "python",
   "name": "python3"
  },
  "language_info": {
   "codemirror_mode": {
    "name": "ipython",
    "version": 3
   },
   "file_extension": ".py",
   "mimetype": "text/x-python",
   "name": "python",
   "nbconvert_exporter": "python",
   "pygments_lexer": "ipython3",
   "version": "3.10.13"
  }
 },
 "nbformat": 4,
 "nbformat_minor": 2
}
